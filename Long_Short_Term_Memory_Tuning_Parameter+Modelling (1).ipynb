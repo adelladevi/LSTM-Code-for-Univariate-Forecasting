{
  "nbformat": 4,
  "nbformat_minor": 0,
  "metadata": {
    "colab": {
      "provenance": [],
      "toc_visible": true
    },
    "kernelspec": {
      "name": "python3",
      "display_name": "Python 3"
    },
    "language_info": {
      "name": "python"
    }
  },
  "cells": [
    {
      "cell_type": "markdown",
      "source": [
        "# Install Library dan Package"
      ],
      "metadata": {
        "id": "5sEcl9x65uuq"
      }
    },
    {
      "cell_type": "code",
      "execution_count": 1,
      "metadata": {
        "colab": {
          "base_uri": "https://localhost:8080/"
        },
        "id": "-EJgV3QLZ-tG",
        "outputId": "4f3c8017-2d8b-4994-f93c-05cbb8302436"
      },
      "outputs": [
        {
          "output_type": "stream",
          "name": "stdout",
          "text": [
            "Requirement already satisfied: keras-tuner in /usr/local/lib/python3.10/dist-packages (1.3.5)\n",
            "Requirement already satisfied: packaging in /usr/local/lib/python3.10/dist-packages (from keras-tuner) (23.1)\n",
            "Requirement already satisfied: requests in /usr/local/lib/python3.10/dist-packages (from keras-tuner) (2.27.1)\n",
            "Requirement already satisfied: kt-legacy in /usr/local/lib/python3.10/dist-packages (from keras-tuner) (1.0.5)\n",
            "Requirement already satisfied: urllib3<1.27,>=1.21.1 in /usr/local/lib/python3.10/dist-packages (from requests->keras-tuner) (1.26.16)\n",
            "Requirement already satisfied: certifi>=2017.4.17 in /usr/local/lib/python3.10/dist-packages (from requests->keras-tuner) (2023.5.7)\n",
            "Requirement already satisfied: charset-normalizer~=2.0.0 in /usr/local/lib/python3.10/dist-packages (from requests->keras-tuner) (2.0.12)\n",
            "Requirement already satisfied: idna<4,>=2.5 in /usr/local/lib/python3.10/dist-packages (from requests->keras-tuner) (3.4)\n"
          ]
        }
      ],
      "source": [
        "!pip install keras-tuner --upgrade"
      ]
    },
    {
      "cell_type": "code",
      "source": [
        "import pandas as pd\n",
        "import numpy as np\n",
        "import matplotlib.pyplot as plt\n",
        "%matplotlib inline\n",
        "import tensorflow as tf\n",
        "import keras\n",
        "import math\n",
        "from google.colab import drive\n",
        "from keras.models import Sequential\n",
        "from keras.layers import Dense, LSTM, Dropout\n",
        "from sklearn.metrics import mean_squared_error, mean_absolute_error,mean_absolute_percentage_error\n",
        "from tensorflow.keras.models import load_model\n",
        "from kerastuner.tuners import RandomSearch\n",
        "from kerastuner.engine.hyperparameters import HyperParameters\n",
        "from pickle import dump,load\n",
        "import warnings\n",
        "warnings.simplefilter(\"ignore\", UserWarning)"
      ],
      "metadata": {
        "colab": {
          "base_uri": "https://localhost:8080/"
        },
        "id": "Dq5JH_3_aLnN",
        "outputId": "ad100b97-d13f-4895-ef49-c73b35deecd0"
      },
      "execution_count": 2,
      "outputs": [
        {
          "output_type": "stream",
          "name": "stderr",
          "text": [
            "<ipython-input-2-d331219aa4b0>:13: DeprecationWarning: `import kerastuner` is deprecated, please use `import keras_tuner`.\n",
            "  from kerastuner.tuners import RandomSearch\n"
          ]
        }
      ]
    },
    {
      "cell_type": "markdown",
      "source": [
        "# Memanggil Dataset"
      ],
      "metadata": {
        "id": "GdDtolXw52nE"
      }
    },
    {
      "cell_type": "code",
      "source": [
        "#Menyiapkan data dan memanggil dataset\n",
        "drive.mount('/content/drive')\n",
        "data_set = pd.read_csv('/content/drive/MyDrive/TUGAS AKHIR KURS/kurs_rupiah1.csv')"
      ],
      "metadata": {
        "colab": {
          "base_uri": "https://localhost:8080/"
        },
        "id": "a4rmT1JUaOT6",
        "outputId": "11b175dd-02eb-4dcf-f21a-4b8595757275"
      },
      "execution_count": 3,
      "outputs": [
        {
          "output_type": "stream",
          "name": "stdout",
          "text": [
            "Drive already mounted at /content/drive; to attempt to forcibly remount, call drive.mount(\"/content/drive\", force_remount=True).\n"
          ]
        }
      ]
    },
    {
      "cell_type": "markdown",
      "source": [
        "# Mencetak Data"
      ],
      "metadata": {
        "id": "5bzSXn3Q6Bpl"
      }
    },
    {
      "cell_type": "code",
      "source": [
        "data_set.head()"
      ],
      "metadata": {
        "colab": {
          "base_uri": "https://localhost:8080/",
          "height": 206
        },
        "id": "xnXqGvQaaQkL",
        "outputId": "82d5d3dd-2d43-46ae-c96f-f16b6b84b35a"
      },
      "execution_count": 4,
      "outputs": [
        {
          "output_type": "execute_result",
          "data": {
            "text/plain": [
              "      Tanggal   Kurs\n",
              "0  2018-04-05  13767\n",
              "1  2018-04-06  13771\n",
              "2  2018-04-09  13771\n",
              "3  2018-04-10  13759\n",
              "4  2018-04-11  13747"
            ],
            "text/html": [
              "\n",
              "\n",
              "  <div id=\"df-519fc4e1-8def-43a9-bb4a-cbb8361d9c27\">\n",
              "    <div class=\"colab-df-container\">\n",
              "      <div>\n",
              "<style scoped>\n",
              "    .dataframe tbody tr th:only-of-type {\n",
              "        vertical-align: middle;\n",
              "    }\n",
              "\n",
              "    .dataframe tbody tr th {\n",
              "        vertical-align: top;\n",
              "    }\n",
              "\n",
              "    .dataframe thead th {\n",
              "        text-align: right;\n",
              "    }\n",
              "</style>\n",
              "<table border=\"1\" class=\"dataframe\">\n",
              "  <thead>\n",
              "    <tr style=\"text-align: right;\">\n",
              "      <th></th>\n",
              "      <th>Tanggal</th>\n",
              "      <th>Kurs</th>\n",
              "    </tr>\n",
              "  </thead>\n",
              "  <tbody>\n",
              "    <tr>\n",
              "      <th>0</th>\n",
              "      <td>2018-04-05</td>\n",
              "      <td>13767</td>\n",
              "    </tr>\n",
              "    <tr>\n",
              "      <th>1</th>\n",
              "      <td>2018-04-06</td>\n",
              "      <td>13771</td>\n",
              "    </tr>\n",
              "    <tr>\n",
              "      <th>2</th>\n",
              "      <td>2018-04-09</td>\n",
              "      <td>13771</td>\n",
              "    </tr>\n",
              "    <tr>\n",
              "      <th>3</th>\n",
              "      <td>2018-04-10</td>\n",
              "      <td>13759</td>\n",
              "    </tr>\n",
              "    <tr>\n",
              "      <th>4</th>\n",
              "      <td>2018-04-11</td>\n",
              "      <td>13747</td>\n",
              "    </tr>\n",
              "  </tbody>\n",
              "</table>\n",
              "</div>\n",
              "      <button class=\"colab-df-convert\" onclick=\"convertToInteractive('df-519fc4e1-8def-43a9-bb4a-cbb8361d9c27')\"\n",
              "              title=\"Convert this dataframe to an interactive table.\"\n",
              "              style=\"display:none;\">\n",
              "\n",
              "  <svg xmlns=\"http://www.w3.org/2000/svg\" height=\"24px\"viewBox=\"0 0 24 24\"\n",
              "       width=\"24px\">\n",
              "    <path d=\"M0 0h24v24H0V0z\" fill=\"none\"/>\n",
              "    <path d=\"M18.56 5.44l.94 2.06.94-2.06 2.06-.94-2.06-.94-.94-2.06-.94 2.06-2.06.94zm-11 1L8.5 8.5l.94-2.06 2.06-.94-2.06-.94L8.5 2.5l-.94 2.06-2.06.94zm10 10l.94 2.06.94-2.06 2.06-.94-2.06-.94-.94-2.06-.94 2.06-2.06.94z\"/><path d=\"M17.41 7.96l-1.37-1.37c-.4-.4-.92-.59-1.43-.59-.52 0-1.04.2-1.43.59L10.3 9.45l-7.72 7.72c-.78.78-.78 2.05 0 2.83L4 21.41c.39.39.9.59 1.41.59.51 0 1.02-.2 1.41-.59l7.78-7.78 2.81-2.81c.8-.78.8-2.07 0-2.86zM5.41 20L4 18.59l7.72-7.72 1.47 1.35L5.41 20z\"/>\n",
              "  </svg>\n",
              "      </button>\n",
              "\n",
              "\n",
              "\n",
              "    <div id=\"df-532e604b-32f1-41ef-b64e-23cae1842496\">\n",
              "      <button class=\"colab-df-quickchart\" onclick=\"quickchart('df-532e604b-32f1-41ef-b64e-23cae1842496')\"\n",
              "              title=\"Suggest charts.\"\n",
              "              style=\"display:none;\">\n",
              "\n",
              "<svg xmlns=\"http://www.w3.org/2000/svg\" height=\"24px\"viewBox=\"0 0 24 24\"\n",
              "     width=\"24px\">\n",
              "    <g>\n",
              "        <path d=\"M19 3H5c-1.1 0-2 .9-2 2v14c0 1.1.9 2 2 2h14c1.1 0 2-.9 2-2V5c0-1.1-.9-2-2-2zM9 17H7v-7h2v7zm4 0h-2V7h2v10zm4 0h-2v-4h2v4z\"/>\n",
              "    </g>\n",
              "</svg>\n",
              "      </button>\n",
              "    </div>\n",
              "\n",
              "<style>\n",
              "  .colab-df-quickchart {\n",
              "    background-color: #E8F0FE;\n",
              "    border: none;\n",
              "    border-radius: 50%;\n",
              "    cursor: pointer;\n",
              "    display: none;\n",
              "    fill: #1967D2;\n",
              "    height: 32px;\n",
              "    padding: 0 0 0 0;\n",
              "    width: 32px;\n",
              "  }\n",
              "\n",
              "  .colab-df-quickchart:hover {\n",
              "    background-color: #E2EBFA;\n",
              "    box-shadow: 0px 1px 2px rgba(60, 64, 67, 0.3), 0px 1px 3px 1px rgba(60, 64, 67, 0.15);\n",
              "    fill: #174EA6;\n",
              "  }\n",
              "\n",
              "  [theme=dark] .colab-df-quickchart {\n",
              "    background-color: #3B4455;\n",
              "    fill: #D2E3FC;\n",
              "  }\n",
              "\n",
              "  [theme=dark] .colab-df-quickchart:hover {\n",
              "    background-color: #434B5C;\n",
              "    box-shadow: 0px 1px 3px 1px rgba(0, 0, 0, 0.15);\n",
              "    filter: drop-shadow(0px 1px 2px rgba(0, 0, 0, 0.3));\n",
              "    fill: #FFFFFF;\n",
              "  }\n",
              "</style>\n",
              "\n",
              "    <script>\n",
              "      async function quickchart(key) {\n",
              "        const containerElement = document.querySelector('#' + key);\n",
              "        const charts = await google.colab.kernel.invokeFunction(\n",
              "            'suggestCharts', [key], {});\n",
              "      }\n",
              "    </script>\n",
              "\n",
              "      <script>\n",
              "\n",
              "function displayQuickchartButton(domScope) {\n",
              "  let quickchartButtonEl =\n",
              "    domScope.querySelector('#df-532e604b-32f1-41ef-b64e-23cae1842496 button.colab-df-quickchart');\n",
              "  quickchartButtonEl.style.display =\n",
              "    google.colab.kernel.accessAllowed ? 'block' : 'none';\n",
              "}\n",
              "\n",
              "        displayQuickchartButton(document);\n",
              "      </script>\n",
              "      <style>\n",
              "    .colab-df-container {\n",
              "      display:flex;\n",
              "      flex-wrap:wrap;\n",
              "      gap: 12px;\n",
              "    }\n",
              "\n",
              "    .colab-df-convert {\n",
              "      background-color: #E8F0FE;\n",
              "      border: none;\n",
              "      border-radius: 50%;\n",
              "      cursor: pointer;\n",
              "      display: none;\n",
              "      fill: #1967D2;\n",
              "      height: 32px;\n",
              "      padding: 0 0 0 0;\n",
              "      width: 32px;\n",
              "    }\n",
              "\n",
              "    .colab-df-convert:hover {\n",
              "      background-color: #E2EBFA;\n",
              "      box-shadow: 0px 1px 2px rgba(60, 64, 67, 0.3), 0px 1px 3px 1px rgba(60, 64, 67, 0.15);\n",
              "      fill: #174EA6;\n",
              "    }\n",
              "\n",
              "    [theme=dark] .colab-df-convert {\n",
              "      background-color: #3B4455;\n",
              "      fill: #D2E3FC;\n",
              "    }\n",
              "\n",
              "    [theme=dark] .colab-df-convert:hover {\n",
              "      background-color: #434B5C;\n",
              "      box-shadow: 0px 1px 3px 1px rgba(0, 0, 0, 0.15);\n",
              "      filter: drop-shadow(0px 1px 2px rgba(0, 0, 0, 0.3));\n",
              "      fill: #FFFFFF;\n",
              "    }\n",
              "  </style>\n",
              "\n",
              "      <script>\n",
              "        const buttonEl =\n",
              "          document.querySelector('#df-519fc4e1-8def-43a9-bb4a-cbb8361d9c27 button.colab-df-convert');\n",
              "        buttonEl.style.display =\n",
              "          google.colab.kernel.accessAllowed ? 'block' : 'none';\n",
              "\n",
              "        async function convertToInteractive(key) {\n",
              "          const element = document.querySelector('#df-519fc4e1-8def-43a9-bb4a-cbb8361d9c27');\n",
              "          const dataTable =\n",
              "            await google.colab.kernel.invokeFunction('convertToInteractive',\n",
              "                                                     [key], {});\n",
              "          if (!dataTable) return;\n",
              "\n",
              "          const docLinkHtml = 'Like what you see? Visit the ' +\n",
              "            '<a target=\"_blank\" href=https://colab.research.google.com/notebooks/data_table.ipynb>data table notebook</a>'\n",
              "            + ' to learn more about interactive tables.';\n",
              "          element.innerHTML = '';\n",
              "          dataTable['output_type'] = 'display_data';\n",
              "          await google.colab.output.renderOutput(dataTable, element);\n",
              "          const docLink = document.createElement('div');\n",
              "          docLink.innerHTML = docLinkHtml;\n",
              "          element.appendChild(docLink);\n",
              "        }\n",
              "      </script>\n",
              "    </div>\n",
              "  </div>\n"
            ]
          },
          "metadata": {},
          "execution_count": 4
        }
      ]
    },
    {
      "cell_type": "markdown",
      "source": [
        "# Visualisasi Data"
      ],
      "metadata": {
        "id": "UCQGo9R86EgY"
      }
    },
    {
      "cell_type": "code",
      "source": [
        "data_set.plot(figsize=(12,6))"
      ],
      "metadata": {
        "colab": {
          "base_uri": "https://localhost:8080/",
          "height": 440
        },
        "id": "7pIvzg2TaTlB",
        "outputId": "978c81eb-c3f2-44d0-91c0-074a5f4ee907"
      },
      "execution_count": 5,
      "outputs": [
        {
          "output_type": "execute_result",
          "data": {
            "text/plain": [
              "<Axes: >"
            ]
          },
          "metadata": {},
          "execution_count": 5
        },
        {
          "output_type": "display_data",
          "data": {
            "text/plain": [
              "<Figure size 1200x600 with 1 Axes>"
            ],
            "image/png": "[encoded data removed]"
          },
          "metadata": {}
        }
      ]
    },
    {
      "cell_type": "markdown",
      "source": [
        "# Mengubah Dataframe Menjadi Time Series"
      ],
      "metadata": {
        "id": "kkhqMWMQ6Hji"
      }
    },
    {
      "cell_type": "code",
      "source": [
        "df = data_set['Kurs']\n",
        "df"
      ],
      "metadata": {
        "colab": {
          "base_uri": "https://localhost:8080/"
        },
        "id": "dhQnaoLsaU0t",
        "outputId": "ac5f7142-26b4-44fc-871c-4b29672e1057"
      },
      "execution_count": 6,
      "outputs": [
        {
          "output_type": "execute_result",
          "data": {
            "text/plain": [
              "0       13767\n",
              "1       13771\n",
              "2       13771\n",
              "3       13759\n",
              "4       13747\n",
              "        ...  \n",
              "1245    14897\n",
              "1246    14878\n",
              "1247    14905\n",
              "1248    14952\n",
              "1249    14959\n",
              "Name: Kurs, Length: 1250, dtype: int64"
            ]
          },
          "metadata": {},
          "execution_count": 6
        }
      ]
    },
    {
      "cell_type": "markdown",
      "source": [
        "# Normalisasi"
      ],
      "metadata": {
        "id": "nwLGTzLf6M8L"
      }
    },
    {
      "cell_type": "code",
      "source": [
        "#Preprocessing data set\n",
        "df = np.array(df).reshape(-1,1)"
      ],
      "metadata": {
        "id": "xWKJUmXPaXAA"
      },
      "execution_count": 7,
      "outputs": []
    },
    {
      "cell_type": "code",
      "source": [
        "#Proses Scalling\n",
        "from sklearn.preprocessing import MinMaxScaler\n",
        "scaler = MinMaxScaler()\n",
        "df = scaler.fit_transform(df)\n",
        "print(df)"
      ],
      "metadata": {
        "colab": {
          "base_uri": "https://localhost:8080/"
        },
        "id": "9LymITFTacvQ",
        "outputId": "6628b2fc-62e7-4242-e8bd-e580182106f6"
      },
      "execution_count": 8,
      "outputs": [
        {
          "output_type": "stream",
          "name": "stdout",
          "text": [
            "[[0.04953659]\n",
            " [0.05081496]\n",
            " [0.05081496]\n",
            " ...\n",
            " [0.41323106]\n",
            " [0.42825184]\n",
            " [0.43048897]]\n"
          ]
        }
      ]
    },
    {
      "cell_type": "markdown",
      "source": [
        "# Membagi Data Training dan Data Testing"
      ],
      "metadata": {
        "id": "aWQEaP7q6T1P"
      }
    },
    {
      "cell_type": "code",
      "source": [
        "#Training and test sets\n",
        "train = df[:1000]\n",
        "test = df[1000:]\n",
        "print(train.shape)\n",
        "print(test.shape)"
      ],
      "metadata": {
        "colab": {
          "base_uri": "https://localhost:8080/"
        },
        "id": "N46Kp83rahnI",
        "outputId": "1b458da5-1e30-4f96-c3a4-2338d26a62b6"
      },
      "execution_count": 9,
      "outputs": [
        {
          "output_type": "stream",
          "name": "stdout",
          "text": [
            "(1000, 1)\n",
            "(250, 1)\n"
          ]
        }
      ]
    },
    {
      "cell_type": "markdown",
      "source": [
        "# Membuat Fungsi Sliding/Look Back"
      ],
      "metadata": {
        "id": "byJR7C5a6YMJ"
      }
    },
    {
      "cell_type": "code",
      "source": [
        "def get_data(data, look_back):\n",
        "    data_x, data_y = [],[]\n",
        "    for i in range(len(data)-look_back-1):\n",
        "        data_x.append(data[i:(i+look_back),0])\n",
        "        data_y.append(data[i+look_back,0])\n",
        "    return np.array(data_x) , np.array(data_y)"
      ],
      "metadata": {
        "id": "n6G90Wnfaj7y"
      },
      "execution_count": 10,
      "outputs": []
    },
    {
      "cell_type": "code",
      "source": [
        "look_back = 1"
      ],
      "metadata": {
        "id": "Qk19scEjamF3"
      },
      "execution_count": 11,
      "outputs": []
    },
    {
      "cell_type": "code",
      "source": [
        "x_train , y_train = get_data(train, look_back)\n",
        "print(x_train.shape)\n",
        "print(y_train.shape)"
      ],
      "metadata": {
        "colab": {
          "base_uri": "https://localhost:8080/"
        },
        "id": "iqD03nWkao4J",
        "outputId": "d7af2453-da67-40bf-b97a-c9aa9962021e"
      },
      "execution_count": 12,
      "outputs": [
        {
          "output_type": "stream",
          "name": "stdout",
          "text": [
            "(998, 1)\n",
            "(998,)\n"
          ]
        }
      ]
    },
    {
      "cell_type": "code",
      "source": [
        "x_test , y_test = get_data(test,look_back)\n",
        "print(x_test.shape)\n",
        "print(y_test.shape)"
      ],
      "metadata": {
        "colab": {
          "base_uri": "https://localhost:8080/"
        },
        "id": "_EF28tCaarMV",
        "outputId": "508bcea6-c283-4b50-ef27-eb7e808a7f7a"
      },
      "execution_count": 13,
      "outputs": [
        {
          "output_type": "stream",
          "name": "stdout",
          "text": [
            "(248, 1)\n",
            "(248,)\n"
          ]
        }
      ]
    },
    {
      "cell_type": "markdown",
      "source": [
        "# Reshape Data"
      ],
      "metadata": {
        "id": "0JoN5xNg5stC"
      }
    },
    {
      "cell_type": "code",
      "source": [
        "#Processing train and test sets for LSTM model\n",
        "x_train = x_train.reshape(x_train.shape[0],x_train.shape[1], 1)\n",
        "x_test = x_test.reshape(x_test.shape[0],x_test.shape[1], 1)\n",
        "print(x_train.shape)\n",
        "print(x_test.shape)"
      ],
      "metadata": {
        "colab": {
          "base_uri": "https://localhost:8080/"
        },
        "id": "-AX0T0TEatjU",
        "outputId": "791fddf3-12b6-4e41-910f-3edf944c84dc"
      },
      "execution_count": 14,
      "outputs": [
        {
          "output_type": "stream",
          "name": "stdout",
          "text": [
            "(998, 1, 1)\n",
            "(248, 1, 1)\n"
          ]
        }
      ]
    },
    {
      "cell_type": "code",
      "source": [
        "# Reshape y_train and y_test\n",
        "y_train = y_train.reshape(y_train.shape[0], 1)\n",
        "y_test = y_test.reshape(y_test.shape[0], 1)\n",
        "print(y_train.shape)\n",
        "print(y_test.shape)"
      ],
      "metadata": {
        "colab": {
          "base_uri": "https://localhost:8080/"
        },
        "id": "C0-pafRYauZ9",
        "outputId": "8aa45b09-f5d3-49dc-d143-13d06949076f"
      },
      "execution_count": 15,
      "outputs": [
        {
          "output_type": "stream",
          "name": "stdout",
          "text": [
            "(998, 1)\n",
            "(248, 1)\n"
          ]
        }
      ]
    },
    {
      "cell_type": "markdown",
      "source": [
        "# Membangun Fungsi Pemodelan"
      ],
      "metadata": {
        "id": "ZM7ECQXh6jlJ"
      }
    },
    {
      "cell_type": "code",
      "source": [
        "def build_model(hp):\n",
        "    model = Sequential()\n",
        "    model.add(LSTM(hp.Int('input_unit',min_value=32,max_value=512,step=32),return_sequences=True, input_shape=(x_train.shape[1],x_train.shape[2])))\n",
        "    for i in range(hp.Int('n_layers', 1, 4)):\n",
        "        model.add(LSTM(hp.Int(f'lstm_{i}_units',min_value=32,max_value=512,step=32),return_sequences=True))\n",
        "    model.add(LSTM(hp.Int('layer_2_neurons',min_value=32,max_value=512,step=32)))\n",
        "    model.add(Dropout(hp.Float('Dropout_rate',min_value=0,max_value=0.5,step=0.1)))\n",
        "    model.add(Dense(y_train.shape[1], activation=hp.Choice('dense_activation',values=['relu', 'sigmoid'],default='relu')))\n",
        "    model.compile(loss='mean_squared_error', optimizer='adam',metrics = ['mse'])\n",
        "    return model"
      ],
      "metadata": {
        "id": "a62lzq4cawcP"
      },
      "execution_count": 16,
      "outputs": []
    },
    {
      "cell_type": "markdown",
      "source": [
        "# Tuning Hyperparameter"
      ],
      "metadata": {
        "id": "fL7zMAR76nt5"
      }
    },
    {
      "cell_type": "code",
      "source": [
        "tuner= RandomSearch(\n",
        "        build_model,\n",
        "        objective='mse',\n",
        "        max_trials=4,\n",
        "        executions_per_trial=1\n",
        "        )"
      ],
      "metadata": {
        "id": "1Qa4d4v8a2mX"
      },
      "execution_count": 17,
      "outputs": []
    },
    {
      "cell_type": "code",
      "source": [
        "tuner.search(\n",
        "        x=x_train,\n",
        "        y=y_train,\n",
        "        epochs=20,\n",
        "        batch_size=128,\n",
        "        validation_data=(x_test,y_test),)\n",
        "tuner.results_summary()"
      ],
      "metadata": {
        "colab": {
          "base_uri": "https://localhost:8080/"
        },
        "id": "mBg6Hjj5a6_A",
        "outputId": "cebf5008-c359-4450-9065-11c1123e1415"
      },
      "execution_count": 18,
      "outputs": [
        {
          "output_type": "stream",
          "name": "stdout",
          "text": [
            "Results summary\n",
            "Results in ./untitled_project\n",
            "Showing 10 best trials\n",
            "Objective(name=\"mse\", direction=\"min\")\n",
            "\n",
            "Trial 2 summary\n",
            "Hyperparameters:\n",
            "input_unit: 320\n",
            "n_layers: 2\n",
            "lstm_0_units: 416\n",
            "layer_2_neurons: 128\n",
            "Dropout_rate: 0.0\n",
            "dense_activation: relu\n",
            "lstm_1_units: 224\n",
            "lstm_2_units: 288\n",
            "lstm_3_units: 192\n",
            "Score: 0.00044410990085452795\n",
            "\n",
            "Trial 3 summary\n",
            "Hyperparameters:\n",
            "input_unit: 448\n",
            "n_layers: 3\n",
            "lstm_0_units: 512\n",
            "layer_2_neurons: 352\n",
            "Dropout_rate: 0.30000000000000004\n",
            "dense_activation: relu\n",
            "lstm_1_units: 256\n",
            "lstm_2_units: 288\n",
            "lstm_3_units: 64\n",
            "Score: 0.000521307229064405\n",
            "\n",
            "Trial 1 summary\n",
            "Hyperparameters:\n",
            "input_unit: 64\n",
            "n_layers: 2\n",
            "lstm_0_units: 320\n",
            "layer_2_neurons: 448\n",
            "Dropout_rate: 0.4\n",
            "dense_activation: relu\n",
            "lstm_1_units: 384\n",
            "lstm_2_units: 448\n",
            "lstm_3_units: 352\n",
            "Score: 0.0005553760565817356\n",
            "\n",
            "Trial 0 summary\n",
            "Hyperparameters:\n",
            "input_unit: 480\n",
            "n_layers: 4\n",
            "lstm_0_units: 384\n",
            "layer_2_neurons: 320\n",
            "Dropout_rate: 0.4\n",
            "dense_activation: relu\n",
            "lstm_1_units: 32\n",
            "lstm_2_units: 32\n",
            "lstm_3_units: 32\n",
            "Score: 0.0009739082888700068\n"
          ]
        }
      ]
    },
    {
      "cell_type": "code",
      "source": [
        "# Nilai MSE\n",
        "mse_1 = 0.0009739082888700068\n",
        "mse_2 = 0.0005553760565817356\n",
        "mse_3 = 0.00044410990085452795\n",
        "mse_4 = 0.000521307229064405\n",
        "# Menghitung RMSE 10 hari kedepan\n",
        "RMSE_1 = math.sqrt(mse_1)\n",
        "RMSE_2 = math.sqrt(mse_2)\n",
        "RMSE_3 = math.sqrt(mse_3)\n",
        "RMSE_4 = math.sqrt(mse_4)\n",
        "print(\"Root Mean Square Error:\\n\")\n",
        "print([RMSE_1,RMSE_2,RMSE_3,RMSE_4])"
      ],
      "metadata": {
        "colab": {
          "base_uri": "https://localhost:8080/"
        },
        "id": "9UIbI-qmzBfu",
        "outputId": "6543d355-4060-4c60-f42c-ac266762a7fd"
      },
      "execution_count": 19,
      "outputs": [
        {
          "output_type": "stream",
          "name": "stdout",
          "text": [
            "Root Mean Square Error:\n",
            "\n",
            "[0.031207503726988592, 0.023566417983684657, 0.021073915176220294, 0.022832153404013494]\n"
          ]
        }
      ]
    },
    {
      "cell_type": "code",
      "source": [
        "# Label untuk setiap data\n",
        "label_data = ['RMSE Trial 1', 'RMSE Trial 2','RMSE Trial 3','RMSE Trial 4']\n",
        "\n",
        "# Plot perbandingan RMSE\n",
        "plt.figure(figsize=(6, 4))\n",
        "plt.bar(label_data, [RMSE_1,RMSE_2,RMSE_3,RMSE_4], width=0.5, align='center', color=['#0088ff', '#0088ff','#0088ff','#0088ff'])\n",
        "plt.xlabel('')\n",
        "plt.ylabel('Nilai RMSE')\n",
        "plt.title('Perbandingan RMSE Tiap Trial')\n",
        "plt.show()"
      ],
      "metadata": {
        "colab": {
          "base_uri": "https://localhost:8080/",
          "height": 391
        },
        "id": "WSnGu2RE6-km",
        "outputId": "4f3f4b99-51cd-4d4f-d9bf-127b6af6b1d8"
      },
      "execution_count": 23,
      "outputs": [
        {
          "output_type": "display_data",
          "data": {
            "text/plain": [
              "<Figure size 600x400 with 1 Axes>"
            ],
            "image/png": "[encoded data removed]"
          },
          "metadata": {}
        }
      ]
    },
    {
      "cell_type": "markdown",
      "source": [
        "# Menentukan Model Terbaik"
      ],
      "metadata": {
        "id": "huVEDugy6uQe"
      }
    },
    {
      "cell_type": "code",
      "source": [
        "best_model = tuner.get_best_models(num_models=1)[0]"
      ],
      "metadata": {
        "id": "mqRcPPf3bHNM"
      },
      "execution_count": 24,
      "outputs": []
    },
    {
      "cell_type": "code",
      "source": [
        "best_model.save('Model 1.h5')"
      ],
      "metadata": {
        "id": "SenEZQJ1bfDL"
      },
      "execution_count": 25,
      "outputs": []
    },
    {
      "cell_type": "code",
      "source": [
        "# Muat kembali model dari file HDF5\n",
        "best_model = load_model('Model 1.h5')\n",
        "# Tampilkan ringkasan model\n",
        "best_model.summary()"
      ],
      "metadata": {
        "colab": {
          "base_uri": "https://localhost:8080/"
        },
        "id": "AsrgYbqydAft",
        "outputId": "5c13fe89-10d1-4756-dc58-d66c00e77967"
      },
      "execution_count": 27,
      "outputs": [
        {
          "output_type": "stream",
          "name": "stdout",
          "text": [
            "Model: \"sequential\"\n",
            "_________________________________________________________________\n",
            " Layer (type)                Output Shape              Param #   \n",
            "=================================================================\n",
            " lstm (LSTM)                 (None, 1, 320)            412160    \n",
            "                                                                 \n",
            " lstm_1 (LSTM)               (None, 1, 416)            1226368   \n",
            "                                                                 \n",
            " lstm_2 (LSTM)               (None, 1, 224)            574336    \n",
            "                                                                 \n",
            " lstm_3 (LSTM)               (None, 128)               180736    \n",
            "                                                                 \n",
            " dropout (Dropout)           (None, 128)               0         \n",
            "                                                                 \n",
            " dense (Dense)               (None, 1)                 129       \n",
            "                                                                 \n",
            "=================================================================\n",
            "Total params: 2,393,729\n",
            "Trainable params: 2,393,729\n",
            "Non-trainable params: 0\n",
            "_________________________________________________________________\n"
          ]
        }
      ]
    },
    {
      "cell_type": "code",
      "source": [
        "#Defining the LSTM model\n",
        "n_features=x_train.shape[1]\n",
        "model=Sequential()\n",
        "model.add(LSTM(100,activation='relu',input_shape=(1,1)))\n",
        "model.add(Dense(n_features))\n",
        "model.summary()"
      ],
      "metadata": {
        "id": "-Dqv0NloU1xV"
      },
      "execution_count": null,
      "outputs": []
    },
    {
      "cell_type": "markdown",
      "source": [
        "# Proses Forecasting"
      ],
      "metadata": {
        "id": "erdOZy1K60Bf"
      }
    },
    {
      "cell_type": "code",
      "source": [
        "y_pred=best_model.predict(x_test)"
      ],
      "metadata": {
        "colab": {
          "base_uri": "https://localhost:8080/"
        },
        "id": "oD-ZE_efbg66",
        "outputId": "e2a40533-b33c-440e-b643-621b6cc694bb"
      },
      "execution_count": 28,
      "outputs": [
        {
          "output_type": "stream",
          "name": "stdout",
          "text": [
            "8/8 [==============================] - 3s 18ms/step\n"
          ]
        }
      ]
    },
    {
      "cell_type": "markdown",
      "source": [
        "# Hasil Forecasting"
      ],
      "metadata": {
        "id": "hULzKYx167EV"
      }
    },
    {
      "cell_type": "code",
      "source": [
        "y_tests = scaler.inverse_transform(y_test)\n",
        "print(y_tests)"
      ],
      "metadata": {
        "colab": {
          "base_uri": "https://localhost:8080/"
        },
        "id": "DGPbO7Aa_obJ",
        "outputId": "781e08d4-a1dc-4e5c-fa50-10ac70b6a0ce"
      },
      "execution_count": 29,
      "outputs": [
        {
          "output_type": "stream",
          "name": "stdout",
          "text": [
            "[[14645.]\n",
            " [14578.]\n",
            " [14544.]\n",
            " [14592.]\n",
            " [14526.]\n",
            " [14431.]\n",
            " [14462.]\n",
            " [14464.]\n",
            " [14477.]\n",
            " [14555.]\n",
            " [14569.]\n",
            " [14672.]\n",
            " [14729.]\n",
            " [14746.]\n",
            " [14741.]\n",
            " [14828.]\n",
            " [14836.]\n",
            " [14804.]\n",
            " [14860.]\n",
            " [14835.]\n",
            " [14846.]\n",
            " [14802.]\n",
            " [14837.]\n",
            " [14848.]\n",
            " [14882.]\n",
            " [14956.]\n",
            " [14960.]\n",
            " [14990.]\n",
            " [15015.]\n",
            " [14986.]\n",
            " [14981.]\n",
            " [14969.]\n",
            " [14993.]\n",
            " [14985.]\n",
            " [14999.]\n",
            " [14999.]\n",
            " [14986.]\n",
            " [14992.]\n",
            " [14984.]\n",
            " [15017.]\n",
            " [15024.]\n",
            " [14992.]\n",
            " [14984.]\n",
            " [15020.]\n",
            " [14958.]\n",
            " [14860.]\n",
            " [14874.]\n",
            " [14888.]\n",
            " [14917.]\n",
            " [14929.]\n",
            " [14904.]\n",
            " [14915.]\n",
            " [14862.]\n",
            " [14875.]\n",
            " [14799.]\n",
            " [14688.]\n",
            " [14727.]\n",
            " [14767.]\n",
            " [14822.]\n",
            " [14858.]\n",
            " [14882.]\n",
            " [14893.]\n",
            " [14851.]\n",
            " [14827.]\n",
            " [14814.]\n",
            " [14887.]\n",
            " [14875.]\n",
            " [14853.]\n",
            " [14884.]\n",
            " [14900.]\n",
            " [14920.]\n",
            " [14885.]\n",
            " [14927.]\n",
            " [14905.]\n",
            " [14846.]\n",
            " [14839.]\n",
            " [14861.]\n",
            " [14923.]\n",
            " [14899.]\n",
            " [14939.]\n",
            " [14980.]\n",
            " [14975.]\n",
            " [15011.]\n",
            " [15033.]\n",
            " [15035.]\n",
            " [15119.]\n",
            " [15155.]\n",
            " [15243.]\n",
            " [15247.]\n",
            " [15232.]\n",
            " [15293.]\n",
            " [15276.]\n",
            " [15196.]\n",
            " [15197.]\n",
            " [15246.]\n",
            " [15299.]\n",
            " [15362.]\n",
            " [15373.]\n",
            " [15357.]\n",
            " [15390.]\n",
            " [15480.]\n",
            " [15469.]\n",
            " [15491.]\n",
            " [15579.]\n",
            " [15610.]\n",
            " [15590.]\n",
            " [15616.]\n",
            " [15596.]\n",
            " [15573.]\n",
            " [15542.]\n",
            " [15596.]\n",
            " [15647.]\n",
            " [15652.]\n",
            " [15681.]\n",
            " [15736.]\n",
            " [15692.]\n",
            " [15684.]\n",
            " [15654.]\n",
            " [15701.]\n",
            " [15493.]\n",
            " [15499.]\n",
            " [15564.]\n",
            " [15610.]\n",
            " [15687.]\n",
            " [15692.]\n",
            " [15707.]\n",
            " [15716.]\n",
            " [15700.]\n",
            " [15647.]\n",
            " [15668.]\n",
            " [15729.]\n",
            " [15737.]\n",
            " [15742.]\n",
            " [15617.]\n",
            " [15429.]\n",
            " [15409.]\n",
            " [15576.]\n",
            " [15619.]\n",
            " [15624.]\n",
            " [15587.]\n",
            " [15642.]\n",
            " [15661.]\n",
            " [15619.]\n",
            " [15630.]\n",
            " [15617.]\n",
            " [15621.]\n",
            " [15608.]\n",
            " [15601.]\n",
            " [15594.]\n",
            " [15605.]\n",
            " [15636.]\n",
            " [15659.]\n",
            " [15703.]\n",
            " [15731.]\n",
            " [15592.]\n",
            " [15572.]\n",
            " [15590.]\n",
            " [15615.]\n",
            " [15610.]\n",
            " [15635.]\n",
            " [15574.]\n",
            " [15589.]\n",
            " [15527.]\n",
            " [15366.]\n",
            " [15177.]\n",
            " [15019.]\n",
            " [15154.]\n",
            " [15137.]\n",
            " [15113.]\n",
            " [15121.]\n",
            " [14930.]\n",
            " [14958.]\n",
            " [14964.]\n",
            " [14978.]\n",
            " [14979.]\n",
            " [14992.]\n",
            " [14991.]\n",
            " [14868.]\n",
            " [14898.]\n",
            " [15055.]\n",
            " [15139.]\n",
            " [15122.]\n",
            " [15120.]\n",
            " [15140.]\n",
            " [15216.]\n",
            " [15168.]\n",
            " [15194.]\n",
            " [15176.]\n",
            " [15199.]\n",
            " [15168.]\n",
            " [15179.]\n",
            " [15218.]\n",
            " [15187.]\n",
            " [15216.]\n",
            " [15274.]\n",
            " [15240.]\n",
            " [15250.]\n",
            " [15273.]\n",
            " [15306.]\n",
            " [15301.]\n",
            " [15359.]\n",
            " [15451.]\n",
            " [15438.]\n",
            " [15468.]\n",
            " [15374.]\n",
            " [15380.]\n",
            " [15365.]\n",
            " [15418.]\n",
            " [15364.]\n",
            " [15372.]\n",
            " [15349.]\n",
            " [15189.]\n",
            " [15174.]\n",
            " [15088.]\n",
            " [15094.]\n",
            " [15062.]\n",
            " [14977.]\n",
            " [14990.]\n",
            " [14913.]\n",
            " [14933.]\n",
            " [14943.]\n",
            " [14905.]\n",
            " [14888.]\n",
            " [14866.]\n",
            " [14792.]\n",
            " [14666.]\n",
            " [14773.]\n",
            " [14855.]\n",
            " [14882.]\n",
            " [14751.]\n",
            " [14661.]\n",
            " [14703.]\n",
            " [14706.]\n",
            " [14632.]\n",
            " [14674.]\n",
            " [14709.]\n",
            " [14757.]\n",
            " [14746.]\n",
            " [14722.]\n",
            " [14752.]\n",
            " [14812.]\n",
            " [14810.]\n",
            " [14875.]\n",
            " [14936.]\n",
            " [14897.]\n",
            " [14878.]\n",
            " [14905.]\n",
            " [14952.]]\n"
          ]
        }
      ]
    },
    {
      "cell_type": "code",
      "source": [
        "#Bandingin dg data testing\n",
        "y_pred_value = scaler.inverse_transform(y_pred)\n",
        "print(y_pred_value)"
      ],
      "metadata": {
        "colab": {
          "base_uri": "https://localhost:8080/"
        },
        "id": "HWQ8Zvp0botj",
        "outputId": "0a0812ab-0cd3-4bf2-b7ce-454ac8f3633d"
      },
      "execution_count": 30,
      "outputs": [
        {
          "output_type": "stream",
          "name": "stdout",
          "text": [
            "[[14648.508 ]\n",
            " [14640.487 ]\n",
            " [14573.414 ]\n",
            " [14539.4375]\n",
            " [14587.416 ]\n",
            " [14521.469 ]\n",
            " [14426.845 ]\n",
            " [14457.681 ]\n",
            " [14459.673 ]\n",
            " [14472.615 ]\n",
            " [14550.426 ]\n",
            " [14564.415 ]\n",
            " [14667.562 ]\n",
            " [14724.793 ]\n",
            " [14741.881 ]\n",
            " [14736.8545]\n",
            " [14824.42  ]\n",
            " [14832.481 ]\n",
            " [14800.243 ]\n",
            " [14856.678 ]\n",
            " [14831.475 ]\n",
            " [14842.562 ]\n",
            " [14798.229 ]\n",
            " [14833.49  ]\n",
            " [14844.577 ]\n",
            " [14878.868 ]\n",
            " [14953.592 ]\n",
            " [14957.634 ]\n",
            " [14987.961 ]\n",
            " [15013.246 ]\n",
            " [14983.916 ]\n",
            " [14978.86  ]\n",
            " [14966.73  ]\n",
            " [14990.994 ]\n",
            " [14982.905 ]\n",
            " [14997.062 ]\n",
            " [14997.062 ]\n",
            " [14983.916 ]\n",
            " [14989.983 ]\n",
            " [14981.894 ]\n",
            " [15015.27  ]\n",
            " [15022.351 ]\n",
            " [14989.983 ]\n",
            " [14981.894 ]\n",
            " [15018.304 ]\n",
            " [14955.613 ]\n",
            " [14856.678 ]\n",
            " [14870.798 ]\n",
            " [14884.923 ]\n",
            " [14914.196 ]\n",
            " [14926.314 ]\n",
            " [14901.071 ]\n",
            " [14912.176 ]\n",
            " [14858.694 ]\n",
            " [14871.807 ]\n",
            " [14795.208 ]\n",
            " [14683.616 ]\n",
            " [14722.783 ]\n",
            " [14763.001 ]\n",
            " [14818.374 ]\n",
            " [14854.66  ]\n",
            " [14878.868 ]\n",
            " [14889.969 ]\n",
            " [14847.603 ]\n",
            " [14823.411 ]\n",
            " [14810.314 ]\n",
            " [14883.914 ]\n",
            " [14871.807 ]\n",
            " [14849.619 ]\n",
            " [14880.887 ]\n",
            " [14897.034 ]\n",
            " [14917.226 ]\n",
            " [14881.8955]\n",
            " [14924.295 ]\n",
            " [14902.081 ]\n",
            " [14842.562 ]\n",
            " [14835.506 ]\n",
            " [14857.687 ]\n",
            " [14920.256 ]\n",
            " [14896.025 ]\n",
            " [14936.416 ]\n",
            " [14977.851 ]\n",
            " [14972.796 ]\n",
            " [15009.199 ]\n",
            " [15031.456 ]\n",
            " [15033.48  ]\n",
            " [15118.532 ]\n",
            " [15155.011 ]\n",
            " [15244.2295]\n",
            " [15248.286 ]\n",
            " [15233.074 ]\n",
            " [15294.944 ]\n",
            " [15277.701 ]\n",
            " [15196.571 ]\n",
            " [15197.585 ]\n",
            " [15247.272 ]\n",
            " [15301.032 ]\n",
            " [15364.945 ]\n",
            " [15376.106 ]\n",
            " [15359.873 ]\n",
            " [15393.353 ]\n",
            " [15484.65  ]\n",
            " [15473.493 ]\n",
            " [15495.807 ]\n",
            " [15585.026 ]\n",
            " [15616.439 ]\n",
            " [15596.174 ]\n",
            " [15622.519 ]\n",
            " [15602.254 ]\n",
            " [15578.945 ]\n",
            " [15547.521 ]\n",
            " [15602.254 ]\n",
            " [15653.918 ]\n",
            " [15658.98  ]\n",
            " [15688.34  ]\n",
            " [15743.988 ]\n",
            " [15699.474 ]\n",
            " [15691.377 ]\n",
            " [15661.005 ]\n",
            " [15708.581 ]\n",
            " [15497.834 ]\n",
            " [15503.92  ]\n",
            " [15569.823 ]\n",
            " [15616.439 ]\n",
            " [15694.413 ]\n",
            " [15699.474 ]\n",
            " [15714.652 ]\n",
            " [15723.758 ]\n",
            " [15707.569 ]\n",
            " [15653.918 ]\n",
            " [15675.181 ]\n",
            " [15736.907 ]\n",
            " [15744.998 ]\n",
            " [15750.055 ]\n",
            " [15623.531 ]\n",
            " [15432.918 ]\n",
            " [15412.628 ]\n",
            " [15581.986 ]\n",
            " [15625.558 ]\n",
            " [15630.621 ]\n",
            " [15593.135 ]\n",
            " [15648.854 ]\n",
            " [15668.094 ]\n",
            " [15625.558 ]\n",
            " [15636.7   ]\n",
            " [15623.531 ]\n",
            " [15627.584 ]\n",
            " [15614.413 ]\n",
            " [15607.32  ]\n",
            " [15600.228 ]\n",
            " [15611.373 ]\n",
            " [15642.777 ]\n",
            " [15666.069 ]\n",
            " [15710.605 ]\n",
            " [15738.931 ]\n",
            " [15598.201 ]\n",
            " [15577.932 ]\n",
            " [15596.174 ]\n",
            " [15621.505 ]\n",
            " [15616.439 ]\n",
            " [15641.764 ]\n",
            " [15579.958 ]\n",
            " [15595.16  ]\n",
            " [15532.313 ]\n",
            " [15369.004 ]\n",
            " [15177.309 ]\n",
            " [15017.292 ]\n",
            " [15153.997 ]\n",
            " [15136.7705]\n",
            " [15112.455 ]\n",
            " [15120.559 ]\n",
            " [14927.325 ]\n",
            " [14955.613 ]\n",
            " [14961.677 ]\n",
            " [14975.827 ]\n",
            " [14976.839 ]\n",
            " [14989.983 ]\n",
            " [14988.973 ]\n",
            " [14864.746 ]\n",
            " [14895.015 ]\n",
            " [15053.722 ]\n",
            " [15138.797 ]\n",
            " [15121.571 ]\n",
            " [15119.545 ]\n",
            " [15139.81  ]\n",
            " [15216.849 ]\n",
            " [15168.187 ]\n",
            " [15194.543 ]\n",
            " [15176.296 ]\n",
            " [15199.613 ]\n",
            " [15168.187 ]\n",
            " [15179.337 ]\n",
            " [15218.878 ]\n",
            " [15187.447 ]\n",
            " [15216.849 ]\n",
            " [15275.672 ]\n",
            " [15241.187 ]\n",
            " [15251.33  ]\n",
            " [15274.657 ]\n",
            " [15308.133 ]\n",
            " [15303.062 ]\n",
            " [15361.902 ]\n",
            " [15455.235 ]\n",
            " [15442.048 ]\n",
            " [15472.479 ]\n",
            " [15377.119 ]\n",
            " [15383.207 ]\n",
            " [15367.989 ]\n",
            " [15421.759 ]\n",
            " [15366.975 ]\n",
            " [15375.09  ]\n",
            " [15351.756 ]\n",
            " [15189.475 ]\n",
            " [15174.269 ]\n",
            " [15087.133 ]\n",
            " [15093.209 ]\n",
            " [15060.808 ]\n",
            " [14974.817 ]\n",
            " [14987.961 ]\n",
            " [14910.157 ]\n",
            " [14930.355 ]\n",
            " [14940.456 ]\n",
            " [14902.081 ]\n",
            " [14884.923 ]\n",
            " [14862.7295]\n",
            " [14788.161 ]\n",
            " [14661.543 ]\n",
            " [14769.037 ]\n",
            " [14851.636 ]\n",
            " [14878.868 ]\n",
            " [14746.908 ]\n",
            " [14656.528 ]\n",
            " [14698.675 ]\n",
            " [14701.6875]\n",
            " [14627.461 ]\n",
            " [14669.567 ]\n",
            " [14704.7   ]\n",
            " [14752.941 ]\n",
            " [14741.881 ]\n",
            " [14717.758 ]\n",
            " [14747.913 ]\n",
            " [14808.3   ]\n",
            " [14806.286 ]\n",
            " [14871.807 ]\n",
            " [14933.386 ]\n",
            " [14894.007 ]\n",
            " [14874.834 ]\n",
            " [14902.081 ]]\n"
          ]
        }
      ]
    },
    {
      "cell_type": "code",
      "source": [
        "print(y_pred_value[:10])"
      ],
      "metadata": {
        "colab": {
          "base_uri": "https://localhost:8080/"
        },
        "id": "RMva_oop5M_s",
        "outputId": "d26e6555-c582-47e6-ce98-e4cbac5d1c84"
      },
      "execution_count": 31,
      "outputs": [
        {
          "output_type": "stream",
          "name": "stdout",
          "text": [
            "[[14648.508 ]\n",
            " [14640.487 ]\n",
            " [14573.414 ]\n",
            " [14539.4375]\n",
            " [14587.416 ]\n",
            " [14521.469 ]\n",
            " [14426.845 ]\n",
            " [14457.681 ]\n",
            " [14459.673 ]\n",
            " [14472.615 ]]\n"
          ]
        }
      ]
    },
    {
      "cell_type": "code",
      "source": [
        "plt.figure(figsize=(20,5))\n",
        "plt.title('Kurs Rupiah-Dollar')\n",
        "plt.plot(y_tests , label = 'Actual', color = 'g')\n",
        "plt.plot(y_pred_value , label = 'Predicted', color = 'r')\n",
        "plt.legend()"
      ],
      "metadata": {
        "colab": {
          "base_uri": "https://localhost:8080/",
          "height": 505
        },
        "id": "jyrKxro58Xsr",
        "outputId": "33a794a4-b06e-40e9-f39b-64fa601ae982"
      },
      "execution_count": 32,
      "outputs": [
        {
          "output_type": "execute_result",
          "data": {
            "text/plain": [
              "<matplotlib.legend.Legend at 0x7b945409d630>"
            ]
          },
          "metadata": {},
          "execution_count": 32
        },
        {
          "output_type": "display_data",
          "data": {
            "text/plain": [
              "<Figure size 2000x500 with 1 Axes>"
            ],
            "image/png": "[encoded data removed]"
          },
          "metadata": {}
        }
      ]
    },
    {
      "cell_type": "code",
      "source": [
        "# Menghitung RMSE\n",
        "MSE = np.square(np.subtract(y_test,y_pred)).mean()\n",
        "RMSE = math.sqrt(MSE)\n",
        "print(\"Root Mean Square Error:\\n\")\n",
        "print(RMSE)"
      ],
      "metadata": {
        "colab": {
          "base_uri": "https://localhost:8080/"
        },
        "id": "p2oPnzF2YIPI",
        "outputId": "f745ba0e-69f6-4bbb-e315-0d4349820adb"
      },
      "execution_count": 36,
      "outputs": [
        {
          "output_type": "stream",
          "name": "stdout",
          "text": [
            "Root Mean Square Error:\n",
            "\n",
            "0.018191669353572866\n"
          ]
        }
      ]
    },
    {
      "cell_type": "code",
      "source": [
        "# Nilai MSE\n",
        "rmse_1 = 0.021073915176220294\n",
        "rmse_2 = 0.018191669353572866\n",
        "\n",
        "# Label untuk setiap data\n",
        "label_data = ['RMSE Data Training', 'RMSE Data Testing']\n",
        "\n",
        "# Plot perbandingan RMSE\n",
        "plt.figure(figsize=(4, 2))\n",
        "plt.bar(label_data, [rmse_1,rmse_2], width=0.4, align='center', color=['#0088ff', '#0088ff'])\n",
        "plt.xlabel('')\n",
        "plt.ylabel('Nilai RMSE')\n",
        "plt.title('Perbandingan RMSE')\n",
        "plt.show()"
      ],
      "metadata": {
        "colab": {
          "base_uri": "https://localhost:8080/",
          "height": 237
        },
        "id": "DRtvbrsSt4ot",
        "outputId": "c4b9077a-a2d0-467a-e358-917ebccf26b3"
      },
      "execution_count": 37,
      "outputs": [
        {
          "output_type": "display_data",
          "data": {
            "text/plain": [
              "<Figure size 400x200 with 1 Axes>"
            ],
            "image/png": "[encoded data removed]"
          },
          "metadata": {}
        }
      ]
    },
    {
      "cell_type": "code",
      "source": [
        "# Data training\n",
        "y_train_pred = best_model.predict(x_train)\n",
        "\n",
        "# Menghitung MAE pada data training\n",
        "mae_train = mean_absolute_error(y_train, y_train_pred)\n",
        "print(\"MAE pada data training:\", mae_train)\n",
        "\n",
        "# Data testing\n",
        "y_test_pred = best_model.predict(x_test)\n",
        "\n",
        "# Menghitung MAE pada data testing\n",
        "mae_test = mean_absolute_error(y_test, y_test_pred)\n",
        "print(\"MAE pada data testing:\", mae_test)"
      ],
      "metadata": {
        "colab": {
          "base_uri": "https://localhost:8080/"
        },
        "id": "nt2zYi6xY8h0",
        "outputId": "f714d0ac-6dc4-4029-ddbf-d268c7358c2d"
      },
      "execution_count": 39,
      "outputs": [
        {
          "output_type": "stream",
          "name": "stdout",
          "text": [
            "32/32 [==============================] - 1s 27ms/step\n",
            "MAE pada data training: 0.01368545608937769\n",
            "8/8 [==============================] - 0s 12ms/step\n",
            "MAE pada data testing: 0.013048276255156359\n"
          ]
        }
      ]
    },
    {
      "cell_type": "code",
      "source": [
        "# Nilai MAE\n",
        "MAE_1 = 0.01368545608937769\n",
        "MAE_2 = 0.013048276255156359\n",
        "\n",
        "# Label untuk setiap data\n",
        "label_data = ['MAE Data Training', 'MAE Data Testing']\n",
        "\n",
        "# Plot perbandingan RMSE\n",
        "plt.figure(figsize=(4, 2))\n",
        "plt.bar(label_data, [MAE_1,MAE_2], width=0.4, align='center', color=['#0088ff', '#0088ff'])\n",
        "plt.xlabel('')\n",
        "plt.ylabel('Nilai MAE')\n",
        "plt.title('Perbandingan MAE')\n",
        "plt.show()"
      ],
      "metadata": {
        "colab": {
          "base_uri": "https://localhost:8080/",
          "height": 237
        },
        "id": "1Gee2uY_ZGcy",
        "outputId": "6c28778b-b004-46a0-e95f-567be5c96f62"
      },
      "execution_count": 40,
      "outputs": [
        {
          "output_type": "display_data",
          "data": {
            "text/plain": [
              "<Figure size 400x200 with 1 Axes>"
            ],
            "image/png": "[encoded data removed]"
          },
          "metadata": {}
        }
      ]
    }
  ]
}