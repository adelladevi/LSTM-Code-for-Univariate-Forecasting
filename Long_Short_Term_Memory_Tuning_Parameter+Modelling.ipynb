{
  "nbformat": 4,
  "nbformat_minor": 0,
  "metadata": {
    "colab": {
      "provenance": [],
      "toc_visible": true
    },
    "kernelspec": {
      "name": "python3",
      "display_name": "Python 3"
    },
    "language_info": {
      "name": "python"
    }
  },
  "cells": [
    {
      "cell_type": "markdown",
      "source": [
        "# Install Library dan Package"
      ],
      "metadata": {
        "id": "5sEcl9x65uuq"
      }
    },
    {
      "cell_type": "code",
      "execution_count": 1,
      "metadata": {
        "colab": {
          "base_uri": "https://localhost:8080/"
        },
        "id": "-EJgV3QLZ-tG",
        "outputId": "e2fc7b4b-ef3f-4572-d3aa-3007d06763b5"
      },
      "outputs": [
        {
          "output_type": "stream",
          "name": "stdout",
          "text": [
            "Collecting keras-tuner\n",
            "  Downloading keras_tuner-1.3.5-py3-none-any.whl (176 kB)\n",
            "\u001b[2K     \u001b[90m━━━━━━━━━━━━━━━━━━━━━━━━━━━━━━━━━━━━━━━\u001b[0m \u001b[32m176.1/176.1 kB\u001b[0m \u001b[31m1.9 MB/s\u001b[0m eta \u001b[36m0:00:00\u001b[0m\n",
            "\u001b[?25hRequirement already satisfied: packaging in /usr/local/lib/python3.10/dist-packages (from keras-tuner) (23.1)\n",
            "Requirement already satisfied: requests in /usr/local/lib/python3.10/dist-packages (from keras-tuner) (2.27.1)\n",
            "Collecting kt-legacy (from keras-tuner)\n",
            "  Downloading kt_legacy-1.0.5-py3-none-any.whl (9.6 kB)\n",
            "Requirement already satisfied: urllib3<1.27,>=1.21.1 in /usr/local/lib/python3.10/dist-packages (from requests->keras-tuner) (1.26.16)\n",
            "Requirement already satisfied: certifi>=2017.4.17 in /usr/local/lib/python3.10/dist-packages (from requests->keras-tuner) (2023.5.7)\n",
            "Requirement already satisfied: charset-normalizer~=2.0.0 in /usr/local/lib/python3.10/dist-packages (from requests->keras-tuner) (2.0.12)\n",
            "Requirement already satisfied: idna<4,>=2.5 in /usr/local/lib/python3.10/dist-packages (from requests->keras-tuner) (3.4)\n",
            "Installing collected packages: kt-legacy, keras-tuner\n",
            "Successfully installed keras-tuner-1.3.5 kt-legacy-1.0.5\n"
          ]
        }
      ],
      "source": [
        "!pip install keras-tuner --upgrade"
      ]
    },
    {
      "cell_type": "code",
      "source": [
        "import pandas as pd\n",
        "import numpy as np\n",
        "import matplotlib.pyplot as plt\n",
        "%matplotlib inline\n",
        "import tensorflow as tf\n",
        "import keras\n",
        "import math\n",
        "from google.colab import drive\n",
        "from keras.models import Sequential\n",
        "from keras.layers import Dense, LSTM, Dropout\n",
        "from sklearn.metrics import mean_squared_error\n",
        "from kerastuner.tuners import RandomSearch\n",
        "from kerastuner.engine.hyperparameters import HyperParameters\n",
        "from pickle import dump,load\n",
        "import warnings\n",
        "warnings.simplefilter(\"ignore\", UserWarning)"
      ],
      "metadata": {
        "colab": {
          "base_uri": "https://localhost:8080/"
        },
        "id": "Dq5JH_3_aLnN",
        "outputId": "f031e689-7da7-4d81-f573-798b4fea6033"
      },
      "execution_count": 2,
      "outputs": [
        {
          "output_type": "stream",
          "name": "stderr",
          "text": [
            "<ipython-input-2-1b3b42ea7cd8>:12: DeprecationWarning: `import kerastuner` is deprecated, please use `import keras_tuner`.\n",
            "  from kerastuner.tuners import RandomSearch\n"
          ]
        }
      ]
    },
    {
      "cell_type": "markdown",
      "source": [
        "# Memanggil Dataset"
      ],
      "metadata": {
        "id": "GdDtolXw52nE"
      }
    },
    {
      "cell_type": "code",
      "source": [
        "#Menyiapkan data dan memanggil dataset\n",
        "drive.mount('/content/drive')\n",
        "data_set = pd.read_csv('/content/drive/MyDrive/TUGAS AKHIR KURS/kurs_rupiah1.csv')"
      ],
      "metadata": {
        "colab": {
          "base_uri": "https://localhost:8080/"
        },
        "id": "a4rmT1JUaOT6",
        "outputId": "b08d3b32-da7f-4738-c7f4-82f2ef8e87c4"
      },
      "execution_count": 3,
      "outputs": [
        {
          "output_type": "stream",
          "name": "stdout",
          "text": [
            "Mounted at /content/drive\n"
          ]
        }
      ]
    },
    {
      "cell_type": "markdown",
      "source": [
        "# Mencetak Data"
      ],
      "metadata": {
        "id": "5bzSXn3Q6Bpl"
      }
    },
    {
      "cell_type": "code",
      "source": [
        "data_set.head()"
      ],
      "metadata": {
        "colab": {
          "base_uri": "https://localhost:8080/",
          "height": 206
        },
        "id": "xnXqGvQaaQkL",
        "outputId": "14b807e4-13d2-48d3-d8e3-e53b7619a4ad"
      },
      "execution_count": 4,
      "outputs": [
        {
          "output_type": "execute_result",
          "data": {
            "text/plain": [
              "      Tanggal   Kurs\n",
              "0  2018-04-05  13767\n",
              "1  2018-04-06  13771\n",
              "2  2018-04-09  13771\n",
              "3  2018-04-10  13759\n",
              "4  2018-04-11  13747"
            ],
            "text/html": [
              "\n",
              "\n",
              "  <div id=\"df-d25040b2-612a-4562-a61c-1335e1e37560\">\n",
              "    <div class=\"colab-df-container\">\n",
              "      <div>\n",
              "<style scoped>\n",
              "    .dataframe tbody tr th:only-of-type {\n",
              "        vertical-align: middle;\n",
              "    }\n",
              "\n",
              "    .dataframe tbody tr th {\n",
              "        vertical-align: top;\n",
              "    }\n",
              "\n",
              "    .dataframe thead th {\n",
              "        text-align: right;\n",
              "    }\n",
              "</style>\n",
              "<table border=\"1\" class=\"dataframe\">\n",
              "  <thead>\n",
              "    <tr style=\"text-align: right;\">\n",
              "      <th></th>\n",
              "      <th>Tanggal</th>\n",
              "      <th>Kurs</th>\n",
              "    </tr>\n",
              "  </thead>\n",
              "  <tbody>\n",
              "    <tr>\n",
              "      <th>0</th>\n",
              "      <td>2018-04-05</td>\n",
              "      <td>13767</td>\n",
              "    </tr>\n",
              "    <tr>\n",
              "      <th>1</th>\n",
              "      <td>2018-04-06</td>\n",
              "      <td>13771</td>\n",
              "    </tr>\n",
              "    <tr>\n",
              "      <th>2</th>\n",
              "      <td>2018-04-09</td>\n",
              "      <td>13771</td>\n",
              "    </tr>\n",
              "    <tr>\n",
              "      <th>3</th>\n",
              "      <td>2018-04-10</td>\n",
              "      <td>13759</td>\n",
              "    </tr>\n",
              "    <tr>\n",
              "      <th>4</th>\n",
              "      <td>2018-04-11</td>\n",
              "      <td>13747</td>\n",
              "    </tr>\n",
              "  </tbody>\n",
              "</table>\n",
              "</div>\n",
              "      <button class=\"colab-df-convert\" onclick=\"convertToInteractive('df-d25040b2-612a-4562-a61c-1335e1e37560')\"\n",
              "              title=\"Convert this dataframe to an interactive table.\"\n",
              "              style=\"display:none;\">\n",
              "\n",
              "  <svg xmlns=\"http://www.w3.org/2000/svg\" height=\"24px\"viewBox=\"0 0 24 24\"\n",
              "       width=\"24px\">\n",
              "    <path d=\"M0 0h24v24H0V0z\" fill=\"none\"/>\n",
              "    <path d=\"M18.56 5.44l.94 2.06.94-2.06 2.06-.94-2.06-.94-.94-2.06-.94 2.06-2.06.94zm-11 1L8.5 8.5l.94-2.06 2.06-.94-2.06-.94L8.5 2.5l-.94 2.06-2.06.94zm10 10l.94 2.06.94-2.06 2.06-.94-2.06-.94-.94-2.06-.94 2.06-2.06.94z\"/><path d=\"M17.41 7.96l-1.37-1.37c-.4-.4-.92-.59-1.43-.59-.52 0-1.04.2-1.43.59L10.3 9.45l-7.72 7.72c-.78.78-.78 2.05 0 2.83L4 21.41c.39.39.9.59 1.41.59.51 0 1.02-.2 1.41-.59l7.78-7.78 2.81-2.81c.8-.78.8-2.07 0-2.86zM5.41 20L4 18.59l7.72-7.72 1.47 1.35L5.41 20z\"/>\n",
              "  </svg>\n",
              "      </button>\n",
              "\n",
              "\n",
              "\n",
              "    <div id=\"df-10b0832b-e3f8-4ccc-8767-321b832515a1\">\n",
              "      <button class=\"colab-df-quickchart\" onclick=\"quickchart('df-10b0832b-e3f8-4ccc-8767-321b832515a1')\"\n",
              "              title=\"Suggest charts.\"\n",
              "              style=\"display:none;\">\n",
              "\n",
              "<svg xmlns=\"http://www.w3.org/2000/svg\" height=\"24px\"viewBox=\"0 0 24 24\"\n",
              "     width=\"24px\">\n",
              "    <g>\n",
              "        <path d=\"M19 3H5c-1.1 0-2 .9-2 2v14c0 1.1.9 2 2 2h14c1.1 0 2-.9 2-2V5c0-1.1-.9-2-2-2zM9 17H7v-7h2v7zm4 0h-2V7h2v10zm4 0h-2v-4h2v4z\"/>\n",
              "    </g>\n",
              "</svg>\n",
              "      </button>\n",
              "    </div>\n",
              "\n",
              "<style>\n",
              "  .colab-df-quickchart {\n",
              "    background-color: #E8F0FE;\n",
              "    border: none;\n",
              "    border-radius: 50%;\n",
              "    cursor: pointer;\n",
              "    display: none;\n",
              "    fill: #1967D2;\n",
              "    height: 32px;\n",
              "    padding: 0 0 0 0;\n",
              "    width: 32px;\n",
              "  }\n",
              "\n",
              "  .colab-df-quickchart:hover {\n",
              "    background-color: #E2EBFA;\n",
              "    box-shadow: 0px 1px 2px rgba(60, 64, 67, 0.3), 0px 1px 3px 1px rgba(60, 64, 67, 0.15);\n",
              "    fill: #174EA6;\n",
              "  }\n",
              "\n",
              "  [theme=dark] .colab-df-quickchart {\n",
              "    background-color: #3B4455;\n",
              "    fill: #D2E3FC;\n",
              "  }\n",
              "\n",
              "  [theme=dark] .colab-df-quickchart:hover {\n",
              "    background-color: #434B5C;\n",
              "    box-shadow: 0px 1px 3px 1px rgba(0, 0, 0, 0.15);\n",
              "    filter: drop-shadow(0px 1px 2px rgba(0, 0, 0, 0.3));\n",
              "    fill: #FFFFFF;\n",
              "  }\n",
              "</style>\n",
              "\n",
              "    <script>\n",
              "      async function quickchart(key) {\n",
              "        const containerElement = document.querySelector('#' + key);\n",
              "        const charts = await google.colab.kernel.invokeFunction(\n",
              "            'suggestCharts', [key], {});\n",
              "      }\n",
              "    </script>\n",
              "\n",
              "      <script>\n",
              "\n",
              "function displayQuickchartButton(domScope) {\n",
              "  let quickchartButtonEl =\n",
              "    domScope.querySelector('#df-10b0832b-e3f8-4ccc-8767-321b832515a1 button.colab-df-quickchart');\n",
              "  quickchartButtonEl.style.display =\n",
              "    google.colab.kernel.accessAllowed ? 'block' : 'none';\n",
              "}\n",
              "\n",
              "        displayQuickchartButton(document);\n",
              "      </script>\n",
              "      <style>\n",
              "    .colab-df-container {\n",
              "      display:flex;\n",
              "      flex-wrap:wrap;\n",
              "      gap: 12px;\n",
              "    }\n",
              "\n",
              "    .colab-df-convert {\n",
              "      background-color: #E8F0FE;\n",
              "      border: none;\n",
              "      border-radius: 50%;\n",
              "      cursor: pointer;\n",
              "      display: none;\n",
              "      fill: #1967D2;\n",
              "      height: 32px;\n",
              "      padding: 0 0 0 0;\n",
              "      width: 32px;\n",
              "    }\n",
              "\n",
              "    .colab-df-convert:hover {\n",
              "      background-color: #E2EBFA;\n",
              "      box-shadow: 0px 1px 2px rgba(60, 64, 67, 0.3), 0px 1px 3px 1px rgba(60, 64, 67, 0.15);\n",
              "      fill: #174EA6;\n",
              "    }\n",
              "\n",
              "    [theme=dark] .colab-df-convert {\n",
              "      background-color: #3B4455;\n",
              "      fill: #D2E3FC;\n",
              "    }\n",
              "\n",
              "    [theme=dark] .colab-df-convert:hover {\n",
              "      background-color: #434B5C;\n",
              "      box-shadow: 0px 1px 3px 1px rgba(0, 0, 0, 0.15);\n",
              "      filter: drop-shadow(0px 1px 2px rgba(0, 0, 0, 0.3));\n",
              "      fill: #FFFFFF;\n",
              "    }\n",
              "  </style>\n",
              "\n",
              "      <script>\n",
              "        const buttonEl =\n",
              "          document.querySelector('#df-d25040b2-612a-4562-a61c-1335e1e37560 button.colab-df-convert');\n",
              "        buttonEl.style.display =\n",
              "          google.colab.kernel.accessAllowed ? 'block' : 'none';\n",
              "\n",
              "        async function convertToInteractive(key) {\n",
              "          const element = document.querySelector('#df-d25040b2-612a-4562-a61c-1335e1e37560');\n",
              "          const dataTable =\n",
              "            await google.colab.kernel.invokeFunction('convertToInteractive',\n",
              "                                                     [key], {});\n",
              "          if (!dataTable) return;\n",
              "\n",
              "          const docLinkHtml = 'Like what you see? Visit the ' +\n",
              "            '<a target=\"_blank\" href=https://colab.research.google.com/notebooks/data_table.ipynb>data table notebook</a>'\n",
              "            + ' to learn more about interactive tables.';\n",
              "          element.innerHTML = '';\n",
              "          dataTable['output_type'] = 'display_data';\n",
              "          await google.colab.output.renderOutput(dataTable, element);\n",
              "          const docLink = document.createElement('div');\n",
              "          docLink.innerHTML = docLinkHtml;\n",
              "          element.appendChild(docLink);\n",
              "        }\n",
              "      </script>\n",
              "    </div>\n",
              "  </div>\n"
            ]
          },
          "metadata": {},
          "execution_count": 4
        }
      ]
    },
    {
      "cell_type": "markdown",
      "source": [
        "# Visualisasi Data"
      ],
      "metadata": {
        "id": "UCQGo9R86EgY"
      }
    },
    {
      "cell_type": "code",
      "source": [
        "data_set.plot(figsize=(12,6))"
      ],
      "metadata": {
        "colab": {
          "base_uri": "https://localhost:8080/",
          "height": 559
        },
        "id": "7pIvzg2TaTlB",
        "outputId": "ec237867-fc5b-457b-b469-70174f60481d"
      },
      "execution_count": 5,
      "outputs": [
        {
          "output_type": "execute_result",
          "data": {
            "text/plain": [
              "<Axes: >"
            ]
          },
          "metadata": {},
          "execution_count": 5
        },
        {
          "output_type": "display_data",
          "data": {
            "text/plain": [
              "<Figure size 1200x600 with 1 Axes>"
            ],
            "image/png": "[encoded data removed]"
          },
          "metadata": {}
        }
      ]
    },
    {
      "cell_type": "markdown",
      "source": [
        "# Mengubah Dataframe Menjadi Time Series"
      ],
      "metadata": {
        "id": "kkhqMWMQ6Hji"
      }
    },
    {
      "cell_type": "code",
      "source": [
        "df = data_set['Kurs']\n",
        "df"
      ],
      "metadata": {
        "colab": {
          "base_uri": "https://localhost:8080/"
        },
        "id": "dhQnaoLsaU0t",
        "outputId": "82a8be31-486a-4b99-a6a4-0075c7831f0e"
      },
      "execution_count": 6,
      "outputs": [
        {
          "output_type": "execute_result",
          "data": {
            "text/plain": [
              "0       13767\n",
              "1       13771\n",
              "2       13771\n",
              "3       13759\n",
              "4       13747\n",
              "        ...  \n",
              "1245    14897\n",
              "1246    14878\n",
              "1247    14905\n",
              "1248    14952\n",
              "1249    14959\n",
              "Name: Kurs, Length: 1250, dtype: int64"
            ]
          },
          "metadata": {},
          "execution_count": 6
        }
      ]
    },
    {
      "cell_type": "markdown",
      "source": [
        "# Normalisasi"
      ],
      "metadata": {
        "id": "nwLGTzLf6M8L"
      }
    },
    {
      "cell_type": "code",
      "source": [
        "#Preprocessing data set\n",
        "df = np.array(df).reshape(-1,1)"
      ],
      "metadata": {
        "id": "xWKJUmXPaXAA"
      },
      "execution_count": 7,
      "outputs": []
    },
    {
      "cell_type": "code",
      "source": [
        "#Proses Scalling\n",
        "from sklearn.preprocessing import MinMaxScaler\n",
        "scaler = MinMaxScaler()\n",
        "df = scaler.fit_transform(df)\n",
        "print(df)"
      ],
      "metadata": {
        "colab": {
          "base_uri": "https://localhost:8080/"
        },
        "id": "9LymITFTacvQ",
        "outputId": "8996a824-0049-4dcf-d3b7-a7b41afefc70"
      },
      "execution_count": 8,
      "outputs": [
        {
          "output_type": "stream",
          "name": "stdout",
          "text": [
            "[[0.04953659]\n",
            " [0.05081496]\n",
            " [0.05081496]\n",
            " ...\n",
            " [0.41323106]\n",
            " [0.42825184]\n",
            " [0.43048897]]\n"
          ]
        }
      ]
    },
    {
      "cell_type": "markdown",
      "source": [
        "# Membagi Data Training dan Data Testing"
      ],
      "metadata": {
        "id": "aWQEaP7q6T1P"
      }
    },
    {
      "cell_type": "code",
      "source": [
        "#Training and test sets\n",
        "train = df[:1000]\n",
        "test = df[1000:]\n",
        "print(train.shape)\n",
        "print(test.shape)"
      ],
      "metadata": {
        "colab": {
          "base_uri": "https://localhost:8080/"
        },
        "id": "N46Kp83rahnI",
        "outputId": "f04bbe3a-bdbc-4fe8-f27c-83cd31b250d7"
      },
      "execution_count": 9,
      "outputs": [
        {
          "output_type": "stream",
          "name": "stdout",
          "text": [
            "(1000, 1)\n",
            "(250, 1)\n"
          ]
        }
      ]
    },
    {
      "cell_type": "markdown",
      "source": [
        "# Membuat Fungsi Sliding/Look Back"
      ],
      "metadata": {
        "id": "byJR7C5a6YMJ"
      }
    },
    {
      "cell_type": "code",
      "source": [
        "def get_data(data, look_back):\n",
        "    data_x, data_y = [],[]\n",
        "    for i in range(len(data)-look_back-1):\n",
        "        data_x.append(data[i:(i+look_back),0])\n",
        "        data_y.append(data[i+look_back,0])\n",
        "    return np.array(data_x) , np.array(data_y)"
      ],
      "metadata": {
        "id": "n6G90Wnfaj7y"
      },
      "execution_count": 10,
      "outputs": []
    },
    {
      "cell_type": "code",
      "source": [
        "look_back = 1"
      ],
      "metadata": {
        "id": "Qk19scEjamF3"
      },
      "execution_count": 11,
      "outputs": []
    },
    {
      "cell_type": "code",
      "source": [
        "x_train , y_train = get_data(train, look_back)\n",
        "print(x_train.shape)\n",
        "print(y_train.shape)"
      ],
      "metadata": {
        "colab": {
          "base_uri": "https://localhost:8080/"
        },
        "id": "iqD03nWkao4J",
        "outputId": "34ce53de-6a6d-4953-a69e-ce37fac492cc"
      },
      "execution_count": 12,
      "outputs": [
        {
          "output_type": "stream",
          "name": "stdout",
          "text": [
            "(998, 1)\n",
            "(998,)\n"
          ]
        }
      ]
    },
    {
      "cell_type": "code",
      "source": [
        "x_test , y_test = get_data(test,look_back)\n",
        "print(x_test.shape)\n",
        "print(y_test.shape)"
      ],
      "metadata": {
        "colab": {
          "base_uri": "https://localhost:8080/"
        },
        "id": "_EF28tCaarMV",
        "outputId": "a1cb43f9-401d-426d-daa8-80331352ed87"
      },
      "execution_count": 14,
      "outputs": [
        {
          "output_type": "stream",
          "name": "stdout",
          "text": [
            "(248, 1)\n",
            "(248,)\n"
          ]
        }
      ]
    },
    {
      "cell_type": "markdown",
      "source": [
        "# Reshape Data"
      ],
      "metadata": {
        "id": "0JoN5xNg5stC"
      }
    },
    {
      "cell_type": "code",
      "source": [
        "#Processing train and test sets for LSTM model\n",
        "x_train = x_train.reshape(x_train.shape[0],x_train.shape[1], 1)\n",
        "x_test = x_test.reshape(x_test.shape[0],x_test.shape[1], 1)\n",
        "print(x_train.shape)\n",
        "print(x_test.shape)"
      ],
      "metadata": {
        "colab": {
          "base_uri": "https://localhost:8080/"
        },
        "id": "-AX0T0TEatjU",
        "outputId": "80dedc57-a694-4395-e1e5-8115d8ca7a54"
      },
      "execution_count": 15,
      "outputs": [
        {
          "output_type": "stream",
          "name": "stdout",
          "text": [
            "(998, 1, 1)\n",
            "(248, 1, 1)\n"
          ]
        }
      ]
    },
    {
      "cell_type": "code",
      "source": [
        "# Reshape y_train and y_test\n",
        "y_train = y_train.reshape(y_train.shape[0], 1)\n",
        "y_test = y_test.reshape(y_test.shape[0], 1)\n",
        "print(y_train.shape)\n",
        "print(y_test.shape)"
      ],
      "metadata": {
        "colab": {
          "base_uri": "https://localhost:8080/"
        },
        "id": "C0-pafRYauZ9",
        "outputId": "53523bd0-b5a9-4c8b-b7fb-56b373aa95b5"
      },
      "execution_count": 16,
      "outputs": [
        {
          "output_type": "stream",
          "name": "stdout",
          "text": [
            "(998, 1)\n",
            "(248, 1)\n"
          ]
        }
      ]
    },
    {
      "cell_type": "markdown",
      "source": [
        "# Membangun Fungsi Pemodelan"
      ],
      "metadata": {
        "id": "ZM7ECQXh6jlJ"
      }
    },
    {
      "cell_type": "code",
      "source": [
        "def build_model(hp):\n",
        "    model = Sequential()\n",
        "    model.add(LSTM(hp.Int('input_unit',min_value=32,max_value=512,step=32),return_sequences=True, input_shape=(x_train.shape[1],x_train.shape[2])))\n",
        "    for i in range(hp.Int('n_layers', 1, 4)):\n",
        "        model.add(LSTM(hp.Int(f'lstm_{i}_units',min_value=32,max_value=512,step=32),return_sequences=True))\n",
        "    model.add(LSTM(hp.Int('layer_2_neurons',min_value=32,max_value=512,step=32)))\n",
        "    model.add(Dropout(hp.Float('Dropout_rate',min_value=0,max_value=0.5,step=0.1)))\n",
        "    model.add(Dense(y_train.shape[1], activation=hp.Choice('dense_activation',values=['relu', 'sigmoid'],default='relu')))\n",
        "    model.compile(loss='mean_squared_error', optimizer='adam',metrics = ['mse'])\n",
        "    return model"
      ],
      "metadata": {
        "id": "a62lzq4cawcP"
      },
      "execution_count": 17,
      "outputs": []
    },
    {
      "cell_type": "markdown",
      "source": [
        "# Tuning Hyperparameter"
      ],
      "metadata": {
        "id": "fL7zMAR76nt5"
      }
    },
    {
      "cell_type": "code",
      "source": [
        "tuner= RandomSearch(\n",
        "        build_model,\n",
        "        objective='mse',\n",
        "        max_trials=4,\n",
        "        executions_per_trial=1\n",
        "        )"
      ],
      "metadata": {
        "id": "1Qa4d4v8a2mX"
      },
      "execution_count": 18,
      "outputs": []
    },
    {
      "cell_type": "code",
      "source": [
        "tuner.search(\n",
        "        x=x_train,\n",
        "        y=y_train,\n",
        "        epochs=20,\n",
        "        batch_size=128,\n",
        "        validation_data=(x_test,y_test),)\n",
        "tuner.results_summary()"
      ],
      "metadata": {
        "colab": {
          "base_uri": "https://localhost:8080/"
        },
        "id": "mBg6Hjj5a6_A",
        "outputId": "1d96601b-7e9b-4805-e9a8-6248e4665a07"
      },
      "execution_count": 19,
      "outputs": [
        {
          "output_type": "stream",
          "name": "stdout",
          "text": [
            "Trial 4 Complete [00h 00m 14s]\n",
            "mse: 0.007903092540800571\n",
            "\n",
            "Best mse So Far: 0.0005507602472789586\n",
            "Total elapsed time: 00h 02m 49s\n",
            "Results summary\n",
            "Results in ./untitled_project\n",
            "Showing 10 best trials\n",
            "Objective(name=\"mse\", direction=\"min\")\n",
            "\n",
            "Trial 0 summary\n",
            "Hyperparameters:\n",
            "input_unit: 128\n",
            "n_layers: 3\n",
            "lstm_0_units: 416\n",
            "layer_2_neurons: 384\n",
            "Dropout_rate: 0.30000000000000004\n",
            "dense_activation: relu\n",
            "lstm_1_units: 32\n",
            "lstm_2_units: 32\n",
            "Score: 0.0005507602472789586\n",
            "\n",
            "Trial 1 summary\n",
            "Hyperparameters:\n",
            "input_unit: 288\n",
            "n_layers: 3\n",
            "lstm_0_units: 512\n",
            "layer_2_neurons: 480\n",
            "Dropout_rate: 0.2\n",
            "dense_activation: sigmoid\n",
            "lstm_1_units: 448\n",
            "lstm_2_units: 480\n",
            "Score: 0.0007334706024266779\n",
            "\n",
            "Trial 2 summary\n",
            "Hyperparameters:\n",
            "input_unit: 32\n",
            "n_layers: 2\n",
            "lstm_0_units: 480\n",
            "layer_2_neurons: 96\n",
            "Dropout_rate: 0.30000000000000004\n",
            "dense_activation: sigmoid\n",
            "lstm_1_units: 64\n",
            "lstm_2_units: 480\n",
            "Score: 0.0012832223437726498\n",
            "\n",
            "Trial 3 summary\n",
            "Hyperparameters:\n",
            "input_unit: 224\n",
            "n_layers: 1\n",
            "lstm_0_units: 96\n",
            "layer_2_neurons: 32\n",
            "Dropout_rate: 0.0\n",
            "dense_activation: sigmoid\n",
            "lstm_1_units: 64\n",
            "lstm_2_units: 480\n",
            "Score: 0.007903092540800571\n"
          ]
        }
      ]
    },
    {
      "cell_type": "code",
      "source": [
        "# Nilai MSE\n",
        "mse_1 = 0.0005507602472789586\n",
        "mse_2 = 0.0012832223437726498\n",
        "mse_3 = 0.0012832223437726498\n",
        "mse_4 = 0.007903092540800571\n",
        "\n",
        "# Label untuk setiap data\n",
        "label_data = ['MSE Trial 1', 'MSE Trial 2','MSE Trial 3','MSE Trial 4']\n",
        "\n",
        "# Plot perbandingan RMSE\n",
        "plt.figure(figsize=(4, 2))\n",
        "plt.bar(label_data, [mse_1,mse_2,mse_3,mse_4], width=0.4, align='center', color=['blue', 'blue','blue','blue'])\n",
        "plt.xlabel('Metriks')\n",
        "plt.ylabel('Nilai MSE')\n",
        "plt.title('Perbandingan MSE Tiap Model')\n",
        "plt.show()"
      ],
      "metadata": {
        "colab": {
          "base_uri": "https://localhost:8080/",
          "height": 256
        },
        "id": "WSnGu2RE6-km",
        "outputId": "a8148cdc-23b7-4da0-d1c4-6f689af43160"
      },
      "execution_count": 52,
      "outputs": [
        {
          "output_type": "display_data",
          "data": {
            "text/plain": [
              "<Figure size 400x200 with 1 Axes>"
            ],
            "image/png": "[encoded data removed]"
          },
          "metadata": {}
        }
      ]
    },
    {
      "cell_type": "markdown",
      "source": [
        "# Menentukan Model Terbaik"
      ],
      "metadata": {
        "id": "huVEDugy6uQe"
      }
    },
    {
      "cell_type": "code",
      "source": [
        "best_model = tuner.get_best_models(num_models=1)[0]"
      ],
      "metadata": {
        "id": "mqRcPPf3bHNM"
      },
      "execution_count": 21,
      "outputs": []
    },
    {
      "cell_type": "markdown",
      "source": [
        "# Proses Forecasting"
      ],
      "metadata": {
        "id": "erdOZy1K60Bf"
      }
    },
    {
      "cell_type": "code",
      "source": [
        "y_pred=best_model.predict(x_test)"
      ],
      "metadata": {
        "colab": {
          "base_uri": "https://localhost:8080/"
        },
        "id": "oD-ZE_efbg66",
        "outputId": "3a06963d-ac81-48a0-b24e-05a2ee5c4e7a"
      },
      "execution_count": 22,
      "outputs": [
        {
          "output_type": "stream",
          "name": "stdout",
          "text": [
            "8/8 [==============================] - 2s 6ms/step\n"
          ]
        }
      ]
    },
    {
      "cell_type": "markdown",
      "source": [
        "# Hasil Forecasting"
      ],
      "metadata": {
        "id": "hULzKYx167EV"
      }
    },
    {
      "cell_type": "code",
      "source": [
        "y_tests = scaler.inverse_transform(y_test)\n",
        "print(y_tests)"
      ],
      "metadata": {
        "colab": {
          "base_uri": "https://localhost:8080/"
        },
        "id": "DGPbO7Aa_obJ",
        "outputId": "7a8c5579-05bf-4701-a9ec-34db0b165d13"
      },
      "execution_count": 38,
      "outputs": [
        {
          "output_type": "stream",
          "name": "stdout",
          "text": [
            "[[14645.]\n",
            " [14578.]\n",
            " [14544.]\n",
            " [14592.]\n",
            " [14526.]\n",
            " [14431.]\n",
            " [14462.]\n",
            " [14464.]\n",
            " [14477.]\n",
            " [14555.]\n",
            " [14569.]\n",
            " [14672.]\n",
            " [14729.]\n",
            " [14746.]\n",
            " [14741.]\n",
            " [14828.]\n",
            " [14836.]\n",
            " [14804.]\n",
            " [14860.]\n",
            " [14835.]\n",
            " [14846.]\n",
            " [14802.]\n",
            " [14837.]\n",
            " [14848.]\n",
            " [14882.]\n",
            " [14956.]\n",
            " [14960.]\n",
            " [14990.]\n",
            " [15015.]\n",
            " [14986.]\n",
            " [14981.]\n",
            " [14969.]\n",
            " [14993.]\n",
            " [14985.]\n",
            " [14999.]\n",
            " [14999.]\n",
            " [14986.]\n",
            " [14992.]\n",
            " [14984.]\n",
            " [15017.]\n",
            " [15024.]\n",
            " [14992.]\n",
            " [14984.]\n",
            " [15020.]\n",
            " [14958.]\n",
            " [14860.]\n",
            " [14874.]\n",
            " [14888.]\n",
            " [14917.]\n",
            " [14929.]\n",
            " [14904.]\n",
            " [14915.]\n",
            " [14862.]\n",
            " [14875.]\n",
            " [14799.]\n",
            " [14688.]\n",
            " [14727.]\n",
            " [14767.]\n",
            " [14822.]\n",
            " [14858.]\n",
            " [14882.]\n",
            " [14893.]\n",
            " [14851.]\n",
            " [14827.]\n",
            " [14814.]\n",
            " [14887.]\n",
            " [14875.]\n",
            " [14853.]\n",
            " [14884.]\n",
            " [14900.]\n",
            " [14920.]\n",
            " [14885.]\n",
            " [14927.]\n",
            " [14905.]\n",
            " [14846.]\n",
            " [14839.]\n",
            " [14861.]\n",
            " [14923.]\n",
            " [14899.]\n",
            " [14939.]\n",
            " [14980.]\n",
            " [14975.]\n",
            " [15011.]\n",
            " [15033.]\n",
            " [15035.]\n",
            " [15119.]\n",
            " [15155.]\n",
            " [15243.]\n",
            " [15247.]\n",
            " [15232.]\n",
            " [15293.]\n",
            " [15276.]\n",
            " [15196.]\n",
            " [15197.]\n",
            " [15246.]\n",
            " [15299.]\n",
            " [15362.]\n",
            " [15373.]\n",
            " [15357.]\n",
            " [15390.]\n",
            " [15480.]\n",
            " [15469.]\n",
            " [15491.]\n",
            " [15579.]\n",
            " [15610.]\n",
            " [15590.]\n",
            " [15616.]\n",
            " [15596.]\n",
            " [15573.]\n",
            " [15542.]\n",
            " [15596.]\n",
            " [15647.]\n",
            " [15652.]\n",
            " [15681.]\n",
            " [15736.]\n",
            " [15692.]\n",
            " [15684.]\n",
            " [15654.]\n",
            " [15701.]\n",
            " [15493.]\n",
            " [15499.]\n",
            " [15564.]\n",
            " [15610.]\n",
            " [15687.]\n",
            " [15692.]\n",
            " [15707.]\n",
            " [15716.]\n",
            " [15700.]\n",
            " [15647.]\n",
            " [15668.]\n",
            " [15729.]\n",
            " [15737.]\n",
            " [15742.]\n",
            " [15617.]\n",
            " [15429.]\n",
            " [15409.]\n",
            " [15576.]\n",
            " [15619.]\n",
            " [15624.]\n",
            " [15587.]\n",
            " [15642.]\n",
            " [15661.]\n",
            " [15619.]\n",
            " [15630.]\n",
            " [15617.]\n",
            " [15621.]\n",
            " [15608.]\n",
            " [15601.]\n",
            " [15594.]\n",
            " [15605.]\n",
            " [15636.]\n",
            " [15659.]\n",
            " [15703.]\n",
            " [15731.]\n",
            " [15592.]\n",
            " [15572.]\n",
            " [15590.]\n",
            " [15615.]\n",
            " [15610.]\n",
            " [15635.]\n",
            " [15574.]\n",
            " [15589.]\n",
            " [15527.]\n",
            " [15366.]\n",
            " [15177.]\n",
            " [15019.]\n",
            " [15154.]\n",
            " [15137.]\n",
            " [15113.]\n",
            " [15121.]\n",
            " [14930.]\n",
            " [14958.]\n",
            " [14964.]\n",
            " [14978.]\n",
            " [14979.]\n",
            " [14992.]\n",
            " [14991.]\n",
            " [14868.]\n",
            " [14898.]\n",
            " [15055.]\n",
            " [15139.]\n",
            " [15122.]\n",
            " [15120.]\n",
            " [15140.]\n",
            " [15216.]\n",
            " [15168.]\n",
            " [15194.]\n",
            " [15176.]\n",
            " [15199.]\n",
            " [15168.]\n",
            " [15179.]\n",
            " [15218.]\n",
            " [15187.]\n",
            " [15216.]\n",
            " [15274.]\n",
            " [15240.]\n",
            " [15250.]\n",
            " [15273.]\n",
            " [15306.]\n",
            " [15301.]\n",
            " [15359.]\n",
            " [15451.]\n",
            " [15438.]\n",
            " [15468.]\n",
            " [15374.]\n",
            " [15380.]\n",
            " [15365.]\n",
            " [15418.]\n",
            " [15364.]\n",
            " [15372.]\n",
            " [15349.]\n",
            " [15189.]\n",
            " [15174.]\n",
            " [15088.]\n",
            " [15094.]\n",
            " [15062.]\n",
            " [14977.]\n",
            " [14990.]\n",
            " [14913.]\n",
            " [14933.]\n",
            " [14943.]\n",
            " [14905.]\n",
            " [14888.]\n",
            " [14866.]\n",
            " [14792.]\n",
            " [14666.]\n",
            " [14773.]\n",
            " [14855.]\n",
            " [14882.]\n",
            " [14751.]\n",
            " [14661.]\n",
            " [14703.]\n",
            " [14706.]\n",
            " [14632.]\n",
            " [14674.]\n",
            " [14709.]\n",
            " [14757.]\n",
            " [14746.]\n",
            " [14722.]\n",
            " [14752.]\n",
            " [14812.]\n",
            " [14810.]\n",
            " [14875.]\n",
            " [14936.]\n",
            " [14897.]\n",
            " [14878.]\n",
            " [14905.]\n",
            " [14952.]]\n"
          ]
        }
      ]
    },
    {
      "cell_type": "code",
      "source": [
        "#Bandingin dg data testing\n",
        "y_pred_value = scaler.inverse_transform(y_pred)\n",
        "print(y_pred_value)"
      ],
      "metadata": {
        "colab": {
          "base_uri": "https://localhost:8080/"
        },
        "id": "HWQ8Zvp0botj",
        "outputId": "1ba7c1f8-14c5-4ec1-c132-46dcd5d41662"
      },
      "execution_count": 39,
      "outputs": [
        {
          "output_type": "stream",
          "name": "stdout",
          "text": [
            "[[14658.537 ]\n",
            " [14650.023 ]\n",
            " [14579.057 ]\n",
            " [14543.315 ]\n",
            " [14593.831 ]\n",
            " [14524.4795]\n",
            " [14426.191 ]\n",
            " [14458.042 ]\n",
            " [14460.104 ]\n",
            " [14473.533 ]\n",
            " [14554.856 ]\n",
            " [14569.576 ]\n",
            " [14678.789 ]\n",
            " [14739.766 ]\n",
            " [14758.003 ]\n",
            " [14752.636 ]\n",
            " [14846.178 ]\n",
            " [14854.792 ]\n",
            " [14820.345 ]\n",
            " [14880.634 ]\n",
            " [14853.714 ]\n",
            " [14865.558 ]\n",
            " [14818.193 ]\n",
            " [14855.867 ]\n",
            " [14867.711 ]\n",
            " [14904.319 ]\n",
            " [14983.897 ]\n",
            " [14988.191 ]\n",
            " [15020.367 ]\n",
            " [15047.127 ]\n",
            " [15016.081 ]\n",
            " [15010.722 ]\n",
            " [14997.852 ]\n",
            " [15023.581 ]\n",
            " [15015.01  ]\n",
            " [15030.006 ]\n",
            " [15030.006 ]\n",
            " [15016.081 ]\n",
            " [15022.51  ]\n",
            " [15013.937 ]\n",
            " [15049.265 ]\n",
            " [15056.747 ]\n",
            " [15022.51  ]\n",
            " [15013.937 ]\n",
            " [15052.472 ]\n",
            " [14986.045 ]\n",
            " [14880.634 ]\n",
            " [14895.707 ]\n",
            " [14910.778 ]\n",
            " [14941.984 ]\n",
            " [14954.889 ]\n",
            " [14927.998 ]\n",
            " [14939.832 ]\n",
            " [14882.786 ]\n",
            " [14896.783 ]\n",
            " [14814.965 ]\n",
            " [14695.875 ]\n",
            " [14737.621 ]\n",
            " [14780.556 ]\n",
            " [14839.719 ]\n",
            " [14878.479 ]\n",
            " [14904.319 ]\n",
            " [14916.16  ]\n",
            " [14870.942 ]\n",
            " [14845.101 ]\n",
            " [14831.107 ]\n",
            " [14909.702 ]\n",
            " [14896.783 ]\n",
            " [14873.096 ]\n",
            " [14906.473 ]\n",
            " [14923.693 ]\n",
            " [14945.21  ]\n",
            " [14907.55  ]\n",
            " [14952.737 ]\n",
            " [14929.073 ]\n",
            " [14865.558 ]\n",
            " [14858.0205]\n",
            " [14881.709 ]\n",
            " [14948.437 ]\n",
            " [14922.617 ]\n",
            " [14965.637 ]\n",
            " [15009.648 ]\n",
            " [15004.288 ]\n",
            " [15042.85  ]\n",
            " [15066.359 ]\n",
            " [15068.494 ]\n",
            " [15157.747 ]\n",
            " [15195.708 ]\n",
            " [15287.586 ]\n",
            " [15291.728 ]\n",
            " [15276.178 ]\n",
            " [15339.126 ]\n",
            " [15321.66  ]\n",
            " [15238.687 ]\n",
            " [15239.73  ]\n",
            " [15290.692 ]\n",
            " [15345.276 ]\n",
            " [15409.353 ]\n",
            " [15420.446 ]\n",
            " [15404.303 ]\n",
            " [15437.531 ]\n",
            " [15526.742 ]\n",
            " [15515.955 ]\n",
            " [15537.498 ]\n",
            " [15622.302 ]\n",
            " [15651.637 ]\n",
            " [15632.743 ]\n",
            " [15657.281 ]\n",
            " [15638.425 ]\n",
            " [15616.592 ]\n",
            " [15586.919 ]\n",
            " [15638.425 ]\n",
            " [15686.267 ]\n",
            " [15690.914 ]\n",
            " [15717.718 ]\n",
            " [15767.826 ]\n",
            " [15727.816 ]\n",
            " [15720.476 ]\n",
            " [15692.771 ]\n",
            " [15736.049 ]\n",
            " [15539.45  ]\n",
            " [15545.299 ]\n",
            " [15608.005 ]\n",
            " [15651.637 ]\n",
            " [15723.2295]\n",
            " [15727.816 ]\n",
            " [15741.525 ]\n",
            " [15749.716 ]\n",
            " [15735.136 ]\n",
            " [15686.267 ]\n",
            " [15705.734 ]\n",
            " [15761.502 ]\n",
            " [15768.728 ]\n",
            " [15773.233 ]\n",
            " [15658.22  ]\n",
            " [15476.45  ]\n",
            " [15456.539 ]\n",
            " [15619.447 ]\n",
            " [15660.098 ]\n",
            " [15664.789 ]\n",
            " [15629.899 ]\n",
            " [15681.611 ]\n",
            " [15699.261 ]\n",
            " [15660.098 ]\n",
            " [15670.407 ]\n",
            " [15658.22  ]\n",
            " [15661.975 ]\n",
            " [15649.752 ]\n",
            " [15643.149 ]\n",
            " [15636.531 ]\n",
            " [15646.925 ]\n",
            " [15676.015 ]\n",
            " [15697.409 ]\n",
            " [15737.875 ]\n",
            " [15763.31  ]\n",
            " [15634.638 ]\n",
            " [15615.639 ]\n",
            " [15632.743 ]\n",
            " [15656.341 ]\n",
            " [15651.637 ]\n",
            " [15675.081 ]\n",
            " [15617.544 ]\n",
            " [15631.796 ]\n",
            " [15572.459 ]\n",
            " [15413.391 ]\n",
            " [15218.805 ]\n",
            " [15051.403 ]\n",
            " [15194.656 ]\n",
            " [15176.752 ]\n",
            " [15151.402 ]\n",
            " [15159.861 ]\n",
            " [14955.963 ]\n",
            " [14986.045 ]\n",
            " [14992.486 ]\n",
            " [15007.505 ]\n",
            " [15008.577 ]\n",
            " [15022.51  ]\n",
            " [15021.438 ]\n",
            " [14889.247 ]\n",
            " [14921.542 ]\n",
            " [15089.821 ]\n",
            " [15178.86  ]\n",
            " [15160.919 ]\n",
            " [15158.805 ]\n",
            " [15179.915 ]\n",
            " [15259.545 ]\n",
            " [15209.365 ]\n",
            " [15236.598 ]\n",
            " [15217.756 ]\n",
            " [15241.819 ]\n",
            " [15209.366 ]\n",
            " [15220.899 ]\n",
            " [15261.628 ]\n",
            " [15229.276 ]\n",
            " [15259.545 ]\n",
            " [15319.602 ]\n",
            " [15284.477 ]\n",
            " [15294.833 ]\n",
            " [15318.572 ]\n",
            " [15352.439 ]\n",
            " [15347.323 ]\n",
            " [15406.324 ]\n",
            " [15498.231 ]\n",
            " [15485.376 ]\n",
            " [15514.972 ]\n",
            " [15421.453 ]\n",
            " [15427.49  ]\n",
            " [15412.382 ]\n",
            " [15465.513 ]\n",
            " [15411.373 ]\n",
            " [15419.438 ]\n",
            " [15396.207 ]\n",
            " [15231.369 ]\n",
            " [15215.66  ]\n",
            " [15124.91  ]\n",
            " [15131.277 ]\n",
            " [15097.275 ]\n",
            " [15006.432 ]\n",
            " [15020.367 ]\n",
            " [14937.681 ]\n",
            " [14959.188 ]\n",
            " [14969.936 ]\n",
            " [14929.073 ]\n",
            " [14910.778 ]\n",
            " [14887.094 ]\n",
            " [14807.435 ]\n",
            " [14672.389 ]\n",
            " [14787.005 ]\n",
            " [14875.249 ]\n",
            " [14904.319 ]\n",
            " [14763.371 ]\n",
            " [14667.06  ]\n",
            " [14711.915 ]\n",
            " [14715.125 ]\n",
            " [14636.204 ]\n",
            " [14680.923 ]\n",
            " [14718.337 ]\n",
            " [14769.813 ]\n",
            " [14758.003 ]\n",
            " [14732.262 ]\n",
            " [14764.443 ]\n",
            " [14828.954 ]\n",
            " [14826.803 ]\n",
            " [14896.783 ]\n",
            " [14962.413 ]\n",
            " [14920.466 ]\n",
            " [14900.014 ]\n",
            " [14929.073 ]]\n"
          ]
        }
      ]
    },
    {
      "cell_type": "code",
      "source": [
        "plt.figure(figsize=(20,5))\n",
        "plt.title('Kurs Rupiah-Dollar')\n",
        "plt.plot(y_tests , label = 'Actual', color = 'g')\n",
        "plt.plot(y_pred_value , label = 'Predicted', color = 'r')\n",
        "plt.legend()"
      ],
      "metadata": {
        "colab": {
          "base_uri": "https://localhost:8080/",
          "height": 258
        },
        "id": "jyrKxro58Xsr",
        "outputId": "b4b42486-ae39-46c3-fe0e-9bbe2a1c3612"
      },
      "execution_count": 42,
      "outputs": [
        {
          "output_type": "execute_result",
          "data": {
            "text/plain": [
              "<matplotlib.legend.Legend at 0x7bbeead8ef80>"
            ]
          },
          "metadata": {},
          "execution_count": 42
        },
        {
          "output_type": "display_data",
          "data": {
            "text/plain": [
              "<Figure size 2000x500 with 1 Axes>"
            ],
            "image/png": "[encoded data removed]"
          },
          "metadata": {}
        }
      ]
    },
    {
      "cell_type": "code",
      "source": [
        "import math\n",
        "from sklearn.metrics import mean_squared_error\n",
        "MSE = np.square(np.subtract(y_test,y_pred)).mean()\n",
        "# Menghitung RMSE\n",
        "RMSE_Testing = math.sqrt(MSE)\n",
        "print(\"Root Mean Square Error:\\n\")\n",
        "print(RMSE_Testing)"
      ],
      "metadata": {
        "colab": {
          "base_uri": "https://localhost:8080/"
        },
        "id": "xTnTgN3bAAL_",
        "outputId": "cd423d7e-9aed-42c8-d4a4-39ca0bf0713b"
      },
      "execution_count": 43,
      "outputs": [
        {
          "output_type": "stream",
          "name": "stdout",
          "text": [
            "Root Mean Square Error:\n",
            "\n",
            "0.021034478008228233\n"
          ]
        }
      ]
    },
    {
      "cell_type": "code",
      "source": [
        "import math\n",
        "from sklearn.metrics import mean_squared_error\n",
        "# Menghitung RMSE\n",
        "RMSE_Training = math.sqrt(0.0005507602472789586)\n",
        "print(\"Root Mean Square Error:\\n\")\n",
        "print(RMSE_Training)"
      ],
      "metadata": {
        "colab": {
          "base_uri": "https://localhost:8080/"
        },
        "id": "jqbZzyFiA4Sz",
        "outputId": "f53c47d7-a128-4652-c934-236a992f98b7"
      },
      "execution_count": 44,
      "outputs": [
        {
          "output_type": "stream",
          "name": "stdout",
          "text": [
            "Root Mean Square Error:\n",
            "\n",
            "0.023468281728302107\n"
          ]
        }
      ]
    },
    {
      "cell_type": "code",
      "source": [
        "# Nilai MSE\n",
        "rmse_1 = 0.023468281728302107\n",
        "rmse_2 = 0.021034478008228233\n",
        "\n",
        "# Label untuk setiap data\n",
        "label_data = ['RMSE Data Training', 'RMSE Data Testing']\n",
        "\n",
        "# Plot perbandingan RMSE\n",
        "plt.figure(figsize=(4, 2))\n",
        "plt.bar(label_data, [rmse_1,rmse_2], width=0.4, align='center', color=['blue', 'blue'])\n",
        "plt.xlabel('Metriks')\n",
        "plt.ylabel('Nilai RMSE')\n",
        "plt.title('Perbandingan RMSE')\n",
        "plt.show()"
      ],
      "metadata": {
        "colab": {
          "base_uri": "https://localhost:8080/",
          "height": 256
        },
        "id": "M7ectKQqAiur",
        "outputId": "d88cdb22-7805-49e2-9f36-c6b5a4490bc9"
      },
      "execution_count": 50,
      "outputs": [
        {
          "output_type": "display_data",
          "data": {
            "text/plain": [
              "<Figure size 400x200 with 1 Axes>"
            ],
            "image/png": "[encoded data removed]"
          },
          "metadata": {}
        }
      ]
    }
  ]
}